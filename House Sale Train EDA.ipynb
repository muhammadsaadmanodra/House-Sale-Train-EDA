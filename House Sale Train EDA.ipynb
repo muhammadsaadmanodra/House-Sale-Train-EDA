{
 "cells": [
  {
   "cell_type": "code",
   "execution_count": 100,
   "id": "df290b59",
   "metadata": {},
   "outputs": [],
   "source": [
    "import pandas as pd\n",
    "import numpy as np\n",
    "from matplotlib import pyplot as plt\n",
    "from sklearn.feature_selection import SelectKBest\n",
    "from sklearn.feature_selection import chi2\n",
    "import scipy.stats as s\n",
    "import seaborn as sns"
   ]
  },
  {
   "cell_type": "code",
   "execution_count": 101,
   "id": "192af4e0",
   "metadata": {},
   "outputs": [],
   "source": [
    "da=pd.read_csv('house_sales_train.csv')"
   ]
  },
  {
   "cell_type": "code",
   "execution_count": 102,
   "id": "428b184b",
   "metadata": {},
   "outputs": [
    {
     "data": {
      "text/plain": [
       "(1460, 81)"
      ]
     },
     "execution_count": 102,
     "metadata": {},
     "output_type": "execute_result"
    }
   ],
   "source": [
    "da.shape"
   ]
  },
  {
   "cell_type": "code",
   "execution_count": 103,
   "id": "8a934fec",
   "metadata": {},
   "outputs": [
    {
     "data": {
      "text/html": [
       "<div>\n",
       "<style scoped>\n",
       "    .dataframe tbody tr th:only-of-type {\n",
       "        vertical-align: middle;\n",
       "    }\n",
       "\n",
       "    .dataframe tbody tr th {\n",
       "        vertical-align: top;\n",
       "    }\n",
       "\n",
       "    .dataframe thead th {\n",
       "        text-align: right;\n",
       "    }\n",
       "</style>\n",
       "<table border=\"1\" class=\"dataframe\">\n",
       "  <thead>\n",
       "    <tr style=\"text-align: right;\">\n",
       "      <th></th>\n",
       "      <th>Id</th>\n",
       "      <th>MSSubClass</th>\n",
       "      <th>MSZoning</th>\n",
       "      <th>LotFrontage</th>\n",
       "      <th>LotArea</th>\n",
       "      <th>Street</th>\n",
       "      <th>Alley</th>\n",
       "      <th>LotShape</th>\n",
       "      <th>LandContour</th>\n",
       "      <th>Utilities</th>\n",
       "      <th>...</th>\n",
       "      <th>PoolArea</th>\n",
       "      <th>PoolQC</th>\n",
       "      <th>Fence</th>\n",
       "      <th>MiscFeature</th>\n",
       "      <th>MiscVal</th>\n",
       "      <th>MoSold</th>\n",
       "      <th>YrSold</th>\n",
       "      <th>SaleType</th>\n",
       "      <th>SaleCondition</th>\n",
       "      <th>SalePrice</th>\n",
       "    </tr>\n",
       "  </thead>\n",
       "  <tbody>\n",
       "    <tr>\n",
       "      <th>0</th>\n",
       "      <td>1</td>\n",
       "      <td>60</td>\n",
       "      <td>RL</td>\n",
       "      <td>65.0</td>\n",
       "      <td>8450</td>\n",
       "      <td>Pave</td>\n",
       "      <td>NaN</td>\n",
       "      <td>Reg</td>\n",
       "      <td>Lvl</td>\n",
       "      <td>AllPub</td>\n",
       "      <td>...</td>\n",
       "      <td>0</td>\n",
       "      <td>NaN</td>\n",
       "      <td>NaN</td>\n",
       "      <td>NaN</td>\n",
       "      <td>0</td>\n",
       "      <td>2</td>\n",
       "      <td>2008</td>\n",
       "      <td>WD</td>\n",
       "      <td>Normal</td>\n",
       "      <td>208500</td>\n",
       "    </tr>\n",
       "    <tr>\n",
       "      <th>1</th>\n",
       "      <td>2</td>\n",
       "      <td>20</td>\n",
       "      <td>RL</td>\n",
       "      <td>80.0</td>\n",
       "      <td>9600</td>\n",
       "      <td>Pave</td>\n",
       "      <td>NaN</td>\n",
       "      <td>Reg</td>\n",
       "      <td>Lvl</td>\n",
       "      <td>AllPub</td>\n",
       "      <td>...</td>\n",
       "      <td>0</td>\n",
       "      <td>NaN</td>\n",
       "      <td>NaN</td>\n",
       "      <td>NaN</td>\n",
       "      <td>0</td>\n",
       "      <td>5</td>\n",
       "      <td>2007</td>\n",
       "      <td>WD</td>\n",
       "      <td>Normal</td>\n",
       "      <td>181500</td>\n",
       "    </tr>\n",
       "    <tr>\n",
       "      <th>2</th>\n",
       "      <td>3</td>\n",
       "      <td>60</td>\n",
       "      <td>RL</td>\n",
       "      <td>68.0</td>\n",
       "      <td>11250</td>\n",
       "      <td>Pave</td>\n",
       "      <td>NaN</td>\n",
       "      <td>IR1</td>\n",
       "      <td>Lvl</td>\n",
       "      <td>AllPub</td>\n",
       "      <td>...</td>\n",
       "      <td>0</td>\n",
       "      <td>NaN</td>\n",
       "      <td>NaN</td>\n",
       "      <td>NaN</td>\n",
       "      <td>0</td>\n",
       "      <td>9</td>\n",
       "      <td>2008</td>\n",
       "      <td>WD</td>\n",
       "      <td>Normal</td>\n",
       "      <td>223500</td>\n",
       "    </tr>\n",
       "    <tr>\n",
       "      <th>3</th>\n",
       "      <td>4</td>\n",
       "      <td>70</td>\n",
       "      <td>RL</td>\n",
       "      <td>60.0</td>\n",
       "      <td>9550</td>\n",
       "      <td>Pave</td>\n",
       "      <td>NaN</td>\n",
       "      <td>IR1</td>\n",
       "      <td>Lvl</td>\n",
       "      <td>AllPub</td>\n",
       "      <td>...</td>\n",
       "      <td>0</td>\n",
       "      <td>NaN</td>\n",
       "      <td>NaN</td>\n",
       "      <td>NaN</td>\n",
       "      <td>0</td>\n",
       "      <td>2</td>\n",
       "      <td>2006</td>\n",
       "      <td>WD</td>\n",
       "      <td>Abnorml</td>\n",
       "      <td>140000</td>\n",
       "    </tr>\n",
       "    <tr>\n",
       "      <th>4</th>\n",
       "      <td>5</td>\n",
       "      <td>60</td>\n",
       "      <td>RL</td>\n",
       "      <td>84.0</td>\n",
       "      <td>14260</td>\n",
       "      <td>Pave</td>\n",
       "      <td>NaN</td>\n",
       "      <td>IR1</td>\n",
       "      <td>Lvl</td>\n",
       "      <td>AllPub</td>\n",
       "      <td>...</td>\n",
       "      <td>0</td>\n",
       "      <td>NaN</td>\n",
       "      <td>NaN</td>\n",
       "      <td>NaN</td>\n",
       "      <td>0</td>\n",
       "      <td>12</td>\n",
       "      <td>2008</td>\n",
       "      <td>WD</td>\n",
       "      <td>Normal</td>\n",
       "      <td>250000</td>\n",
       "    </tr>\n",
       "  </tbody>\n",
       "</table>\n",
       "<p>5 rows × 81 columns</p>\n",
       "</div>"
      ],
      "text/plain": [
       "   Id  MSSubClass MSZoning  LotFrontage  LotArea Street Alley LotShape  \\\n",
       "0   1          60       RL         65.0     8450   Pave   NaN      Reg   \n",
       "1   2          20       RL         80.0     9600   Pave   NaN      Reg   \n",
       "2   3          60       RL         68.0    11250   Pave   NaN      IR1   \n",
       "3   4          70       RL         60.0     9550   Pave   NaN      IR1   \n",
       "4   5          60       RL         84.0    14260   Pave   NaN      IR1   \n",
       "\n",
       "  LandContour Utilities  ... PoolArea PoolQC Fence MiscFeature MiscVal MoSold  \\\n",
       "0         Lvl    AllPub  ...        0    NaN   NaN         NaN       0      2   \n",
       "1         Lvl    AllPub  ...        0    NaN   NaN         NaN       0      5   \n",
       "2         Lvl    AllPub  ...        0    NaN   NaN         NaN       0      9   \n",
       "3         Lvl    AllPub  ...        0    NaN   NaN         NaN       0      2   \n",
       "4         Lvl    AllPub  ...        0    NaN   NaN         NaN       0     12   \n",
       "\n",
       "  YrSold  SaleType  SaleCondition  SalePrice  \n",
       "0   2008        WD         Normal     208500  \n",
       "1   2007        WD         Normal     181500  \n",
       "2   2008        WD         Normal     223500  \n",
       "3   2006        WD        Abnorml     140000  \n",
       "4   2008        WD         Normal     250000  \n",
       "\n",
       "[5 rows x 81 columns]"
      ]
     },
     "execution_count": 103,
     "metadata": {},
     "output_type": "execute_result"
    }
   ],
   "source": [
    "da.head()"
   ]
  },
  {
   "cell_type": "code",
   "execution_count": 104,
   "id": "3d041457",
   "metadata": {},
   "outputs": [
    {
     "data": {
      "text/plain": [
       "Index(['Id', 'MSSubClass', 'MSZoning', 'LotFrontage', 'LotArea', 'Street',\n",
       "       'Alley', 'LotShape', 'LandContour', 'Utilities', 'LotConfig',\n",
       "       'LandSlope', 'Neighborhood', 'Condition1', 'Condition2', 'BldgType',\n",
       "       'HouseStyle', 'OverallQual', 'OverallCond', 'YearBuilt', 'YearRemodAdd',\n",
       "       'RoofStyle', 'RoofMatl', 'Exterior1st', 'Exterior2nd', 'MasVnrType',\n",
       "       'MasVnrArea', 'ExterQual', 'ExterCond', 'Foundation', 'BsmtQual',\n",
       "       'BsmtCond', 'BsmtExposure', 'BsmtFinType1', 'BsmtFinSF1',\n",
       "       'BsmtFinType2', 'BsmtFinSF2', 'BsmtUnfSF', 'TotalBsmtSF', 'Heating',\n",
       "       'HeatingQC', 'CentralAir', 'Electrical', '1stFlrSF', '2ndFlrSF',\n",
       "       'LowQualFinSF', 'GrLivArea', 'BsmtFullBath', 'BsmtHalfBath', 'FullBath',\n",
       "       'HalfBath', 'BedroomAbvGr', 'KitchenAbvGr', 'KitchenQual',\n",
       "       'TotRmsAbvGrd', 'Functional', 'Fireplaces', 'FireplaceQu', 'GarageType',\n",
       "       'GarageYrBlt', 'GarageFinish', 'GarageCars', 'GarageArea', 'GarageQual',\n",
       "       'GarageCond', 'PavedDrive', 'WoodDeckSF', 'OpenPorchSF',\n",
       "       'EnclosedPorch', '3SsnPorch', 'ScreenPorch', 'PoolArea', 'PoolQC',\n",
       "       'Fence', 'MiscFeature', 'MiscVal', 'MoSold', 'YrSold', 'SaleType',\n",
       "       'SaleCondition', 'SalePrice'],\n",
       "      dtype='object')"
      ]
     },
     "execution_count": 104,
     "metadata": {},
     "output_type": "execute_result"
    }
   ],
   "source": [
    "da.columns"
   ]
  },
  {
   "cell_type": "code",
   "execution_count": 105,
   "id": "8e35e7ff",
   "metadata": {},
   "outputs": [
    {
     "data": {
      "text/plain": [
       "Id                int64\n",
       "MSSubClass        int64\n",
       "MSZoning         object\n",
       "LotFrontage     float64\n",
       "LotArea           int64\n",
       "Street           object\n",
       "Alley            object\n",
       "LotShape         object\n",
       "LandContour      object\n",
       "Utilities        object\n",
       "LotConfig        object\n",
       "LandSlope        object\n",
       "Neighborhood     object\n",
       "Condition1       object\n",
       "Condition2       object\n",
       "BldgType         object\n",
       "HouseStyle       object\n",
       "OverallQual       int64\n",
       "OverallCond       int64\n",
       "YearBuilt         int64\n",
       "YearRemodAdd      int64\n",
       "RoofStyle        object\n",
       "RoofMatl         object\n",
       "Exterior1st      object\n",
       "Exterior2nd      object\n",
       "MasVnrType       object\n",
       "MasVnrArea      float64\n",
       "ExterQual        object\n",
       "ExterCond        object\n",
       "Foundation       object\n",
       "BsmtQual         object\n",
       "BsmtCond         object\n",
       "BsmtExposure     object\n",
       "BsmtFinType1     object\n",
       "BsmtFinSF1        int64\n",
       "BsmtFinType2     object\n",
       "BsmtFinSF2        int64\n",
       "BsmtUnfSF         int64\n",
       "TotalBsmtSF       int64\n",
       "Heating          object\n",
       "dtype: object"
      ]
     },
     "execution_count": 105,
     "metadata": {},
     "output_type": "execute_result"
    }
   ],
   "source": [
    "da.dtypes.head(40)"
   ]
  },
  {
   "cell_type": "code",
   "execution_count": 106,
   "id": "e91dce37",
   "metadata": {},
   "outputs": [
    {
     "data": {
      "text/plain": [
       "HeatingQC         object\n",
       "CentralAir        object\n",
       "Electrical        object\n",
       "1stFlrSF           int64\n",
       "2ndFlrSF           int64\n",
       "LowQualFinSF       int64\n",
       "GrLivArea          int64\n",
       "BsmtFullBath       int64\n",
       "BsmtHalfBath       int64\n",
       "FullBath           int64\n",
       "HalfBath           int64\n",
       "BedroomAbvGr       int64\n",
       "KitchenAbvGr       int64\n",
       "KitchenQual       object\n",
       "TotRmsAbvGrd       int64\n",
       "Functional        object\n",
       "Fireplaces         int64\n",
       "FireplaceQu       object\n",
       "GarageType        object\n",
       "GarageYrBlt      float64\n",
       "GarageFinish      object\n",
       "GarageCars         int64\n",
       "GarageArea         int64\n",
       "GarageQual        object\n",
       "GarageCond        object\n",
       "PavedDrive        object\n",
       "WoodDeckSF         int64\n",
       "OpenPorchSF        int64\n",
       "EnclosedPorch      int64\n",
       "3SsnPorch          int64\n",
       "ScreenPorch        int64\n",
       "PoolArea           int64\n",
       "PoolQC            object\n",
       "Fence             object\n",
       "MiscFeature       object\n",
       "MiscVal            int64\n",
       "MoSold             int64\n",
       "YrSold             int64\n",
       "SaleType          object\n",
       "SaleCondition     object\n",
       "SalePrice          int64\n",
       "dtype: object"
      ]
     },
     "execution_count": 106,
     "metadata": {},
     "output_type": "execute_result"
    }
   ],
   "source": [
    "da.dtypes.tail(41)"
   ]
  },
  {
   "cell_type": "code",
   "execution_count": 107,
   "id": "019eb235",
   "metadata": {},
   "outputs": [],
   "source": [
    "da['Id']=da['Id'].astype(object)\n",
    "da['MSSubClass']=da['MSSubClass'].astype(object)\n",
    "da['OverallQual']=da['OverallQual'].astype(object)\n",
    "da['OverallCond']=da['OverallCond'].astype(object)\n"
   ]
  },
  {
   "cell_type": "code",
   "execution_count": 108,
   "id": "51347c5d",
   "metadata": {},
   "outputs": [
    {
     "data": {
      "text/plain": [
       "Id               object\n",
       "MSSubClass       object\n",
       "MSZoning         object\n",
       "LotFrontage     float64\n",
       "LotArea           int64\n",
       "Street           object\n",
       "Alley            object\n",
       "LotShape         object\n",
       "LandContour      object\n",
       "Utilities        object\n",
       "LotConfig        object\n",
       "LandSlope        object\n",
       "Neighborhood     object\n",
       "Condition1       object\n",
       "Condition2       object\n",
       "BldgType         object\n",
       "HouseStyle       object\n",
       "OverallQual      object\n",
       "OverallCond      object\n",
       "YearBuilt         int64\n",
       "YearRemodAdd      int64\n",
       "RoofStyle        object\n",
       "RoofMatl         object\n",
       "Exterior1st      object\n",
       "Exterior2nd      object\n",
       "MasVnrType       object\n",
       "MasVnrArea      float64\n",
       "ExterQual        object\n",
       "ExterCond        object\n",
       "Foundation       object\n",
       "BsmtQual         object\n",
       "BsmtCond         object\n",
       "BsmtExposure     object\n",
       "BsmtFinType1     object\n",
       "BsmtFinSF1        int64\n",
       "BsmtFinType2     object\n",
       "BsmtFinSF2        int64\n",
       "BsmtUnfSF         int64\n",
       "TotalBsmtSF       int64\n",
       "Heating          object\n",
       "dtype: object"
      ]
     },
     "execution_count": 108,
     "metadata": {},
     "output_type": "execute_result"
    }
   ],
   "source": [
    "da.dtypes.head(40)"
   ]
  },
  {
   "cell_type": "code",
   "execution_count": 109,
   "id": "e9783201",
   "metadata": {},
   "outputs": [
    {
     "data": {
      "text/html": [
       "<div>\n",
       "<style scoped>\n",
       "    .dataframe tbody tr th:only-of-type {\n",
       "        vertical-align: middle;\n",
       "    }\n",
       "\n",
       "    .dataframe tbody tr th {\n",
       "        vertical-align: top;\n",
       "    }\n",
       "\n",
       "    .dataframe thead th {\n",
       "        text-align: right;\n",
       "    }\n",
       "</style>\n",
       "<table border=\"1\" class=\"dataframe\">\n",
       "  <thead>\n",
       "    <tr style=\"text-align: right;\">\n",
       "      <th></th>\n",
       "      <th>Id</th>\n",
       "      <th>MSSubClass</th>\n",
       "      <th>MSZoning</th>\n",
       "      <th>LotFrontage</th>\n",
       "      <th>LotArea</th>\n",
       "      <th>Street</th>\n",
       "      <th>Alley</th>\n",
       "      <th>LotShape</th>\n",
       "      <th>LandContour</th>\n",
       "      <th>Utilities</th>\n",
       "      <th>...</th>\n",
       "      <th>PoolArea</th>\n",
       "      <th>PoolQC</th>\n",
       "      <th>Fence</th>\n",
       "      <th>MiscFeature</th>\n",
       "      <th>MiscVal</th>\n",
       "      <th>MoSold</th>\n",
       "      <th>YrSold</th>\n",
       "      <th>SaleType</th>\n",
       "      <th>SaleCondition</th>\n",
       "      <th>SalePrice</th>\n",
       "    </tr>\n",
       "  </thead>\n",
       "  <tbody>\n",
       "    <tr>\n",
       "      <th>0</th>\n",
       "      <td>1</td>\n",
       "      <td>60</td>\n",
       "      <td>RL</td>\n",
       "      <td>65.0</td>\n",
       "      <td>8450</td>\n",
       "      <td>Pave</td>\n",
       "      <td>NaN</td>\n",
       "      <td>Reg</td>\n",
       "      <td>Lvl</td>\n",
       "      <td>AllPub</td>\n",
       "      <td>...</td>\n",
       "      <td>0</td>\n",
       "      <td>NaN</td>\n",
       "      <td>NaN</td>\n",
       "      <td>NaN</td>\n",
       "      <td>0</td>\n",
       "      <td>2</td>\n",
       "      <td>2008</td>\n",
       "      <td>WD</td>\n",
       "      <td>Normal</td>\n",
       "      <td>208500</td>\n",
       "    </tr>\n",
       "    <tr>\n",
       "      <th>1</th>\n",
       "      <td>2</td>\n",
       "      <td>20</td>\n",
       "      <td>RL</td>\n",
       "      <td>80.0</td>\n",
       "      <td>9600</td>\n",
       "      <td>Pave</td>\n",
       "      <td>NaN</td>\n",
       "      <td>Reg</td>\n",
       "      <td>Lvl</td>\n",
       "      <td>AllPub</td>\n",
       "      <td>...</td>\n",
       "      <td>0</td>\n",
       "      <td>NaN</td>\n",
       "      <td>NaN</td>\n",
       "      <td>NaN</td>\n",
       "      <td>0</td>\n",
       "      <td>5</td>\n",
       "      <td>2007</td>\n",
       "      <td>WD</td>\n",
       "      <td>Normal</td>\n",
       "      <td>181500</td>\n",
       "    </tr>\n",
       "    <tr>\n",
       "      <th>2</th>\n",
       "      <td>3</td>\n",
       "      <td>60</td>\n",
       "      <td>RL</td>\n",
       "      <td>68.0</td>\n",
       "      <td>11250</td>\n",
       "      <td>Pave</td>\n",
       "      <td>NaN</td>\n",
       "      <td>IR1</td>\n",
       "      <td>Lvl</td>\n",
       "      <td>AllPub</td>\n",
       "      <td>...</td>\n",
       "      <td>0</td>\n",
       "      <td>NaN</td>\n",
       "      <td>NaN</td>\n",
       "      <td>NaN</td>\n",
       "      <td>0</td>\n",
       "      <td>9</td>\n",
       "      <td>2008</td>\n",
       "      <td>WD</td>\n",
       "      <td>Normal</td>\n",
       "      <td>223500</td>\n",
       "    </tr>\n",
       "    <tr>\n",
       "      <th>3</th>\n",
       "      <td>4</td>\n",
       "      <td>70</td>\n",
       "      <td>RL</td>\n",
       "      <td>60.0</td>\n",
       "      <td>9550</td>\n",
       "      <td>Pave</td>\n",
       "      <td>NaN</td>\n",
       "      <td>IR1</td>\n",
       "      <td>Lvl</td>\n",
       "      <td>AllPub</td>\n",
       "      <td>...</td>\n",
       "      <td>0</td>\n",
       "      <td>NaN</td>\n",
       "      <td>NaN</td>\n",
       "      <td>NaN</td>\n",
       "      <td>0</td>\n",
       "      <td>2</td>\n",
       "      <td>2006</td>\n",
       "      <td>WD</td>\n",
       "      <td>Abnorml</td>\n",
       "      <td>140000</td>\n",
       "    </tr>\n",
       "    <tr>\n",
       "      <th>4</th>\n",
       "      <td>5</td>\n",
       "      <td>60</td>\n",
       "      <td>RL</td>\n",
       "      <td>84.0</td>\n",
       "      <td>14260</td>\n",
       "      <td>Pave</td>\n",
       "      <td>NaN</td>\n",
       "      <td>IR1</td>\n",
       "      <td>Lvl</td>\n",
       "      <td>AllPub</td>\n",
       "      <td>...</td>\n",
       "      <td>0</td>\n",
       "      <td>NaN</td>\n",
       "      <td>NaN</td>\n",
       "      <td>NaN</td>\n",
       "      <td>0</td>\n",
       "      <td>12</td>\n",
       "      <td>2008</td>\n",
       "      <td>WD</td>\n",
       "      <td>Normal</td>\n",
       "      <td>250000</td>\n",
       "    </tr>\n",
       "  </tbody>\n",
       "</table>\n",
       "<p>5 rows × 81 columns</p>\n",
       "</div>"
      ],
      "text/plain": [
       "  Id MSSubClass MSZoning  LotFrontage  LotArea Street Alley LotShape  \\\n",
       "0  1         60       RL         65.0     8450   Pave   NaN      Reg   \n",
       "1  2         20       RL         80.0     9600   Pave   NaN      Reg   \n",
       "2  3         60       RL         68.0    11250   Pave   NaN      IR1   \n",
       "3  4         70       RL         60.0     9550   Pave   NaN      IR1   \n",
       "4  5         60       RL         84.0    14260   Pave   NaN      IR1   \n",
       "\n",
       "  LandContour Utilities  ... PoolArea PoolQC Fence MiscFeature MiscVal MoSold  \\\n",
       "0         Lvl    AllPub  ...        0    NaN   NaN         NaN       0      2   \n",
       "1         Lvl    AllPub  ...        0    NaN   NaN         NaN       0      5   \n",
       "2         Lvl    AllPub  ...        0    NaN   NaN         NaN       0      9   \n",
       "3         Lvl    AllPub  ...        0    NaN   NaN         NaN       0      2   \n",
       "4         Lvl    AllPub  ...        0    NaN   NaN         NaN       0     12   \n",
       "\n",
       "  YrSold SaleType SaleCondition  SalePrice  \n",
       "0   2008       WD        Normal     208500  \n",
       "1   2007       WD        Normal     181500  \n",
       "2   2008       WD        Normal     223500  \n",
       "3   2006       WD       Abnorml     140000  \n",
       "4   2008       WD        Normal     250000  \n",
       "\n",
       "[5 rows x 81 columns]"
      ]
     },
     "execution_count": 109,
     "metadata": {},
     "output_type": "execute_result"
    }
   ],
   "source": [
    "da.head()"
   ]
  },
  {
   "cell_type": "code",
   "execution_count": 110,
   "id": "977b4ebe",
   "metadata": {},
   "outputs": [
    {
     "data": {
      "text/html": [
       "<div>\n",
       "<style scoped>\n",
       "    .dataframe tbody tr th:only-of-type {\n",
       "        vertical-align: middle;\n",
       "    }\n",
       "\n",
       "    .dataframe tbody tr th {\n",
       "        vertical-align: top;\n",
       "    }\n",
       "\n",
       "    .dataframe thead th {\n",
       "        text-align: right;\n",
       "    }\n",
       "</style>\n",
       "<table border=\"1\" class=\"dataframe\">\n",
       "  <thead>\n",
       "    <tr style=\"text-align: right;\">\n",
       "      <th></th>\n",
       "      <th>LotFrontage</th>\n",
       "      <th>LotArea</th>\n",
       "      <th>YearBuilt</th>\n",
       "      <th>YearRemodAdd</th>\n",
       "      <th>MasVnrArea</th>\n",
       "      <th>BsmtFinSF1</th>\n",
       "      <th>BsmtFinSF2</th>\n",
       "      <th>BsmtUnfSF</th>\n",
       "      <th>TotalBsmtSF</th>\n",
       "      <th>1stFlrSF</th>\n",
       "      <th>...</th>\n",
       "      <th>WoodDeckSF</th>\n",
       "      <th>OpenPorchSF</th>\n",
       "      <th>EnclosedPorch</th>\n",
       "      <th>3SsnPorch</th>\n",
       "      <th>ScreenPorch</th>\n",
       "      <th>PoolArea</th>\n",
       "      <th>MiscVal</th>\n",
       "      <th>MoSold</th>\n",
       "      <th>YrSold</th>\n",
       "      <th>SalePrice</th>\n",
       "    </tr>\n",
       "  </thead>\n",
       "  <tbody>\n",
       "    <tr>\n",
       "      <th>count</th>\n",
       "      <td>1201.000000</td>\n",
       "      <td>1460.000000</td>\n",
       "      <td>1460.000000</td>\n",
       "      <td>1460.000000</td>\n",
       "      <td>1452.000000</td>\n",
       "      <td>1460.000000</td>\n",
       "      <td>1460.000000</td>\n",
       "      <td>1460.000000</td>\n",
       "      <td>1460.000000</td>\n",
       "      <td>1460.000000</td>\n",
       "      <td>...</td>\n",
       "      <td>1460.000000</td>\n",
       "      <td>1460.000000</td>\n",
       "      <td>1460.000000</td>\n",
       "      <td>1460.000000</td>\n",
       "      <td>1460.000000</td>\n",
       "      <td>1460.000000</td>\n",
       "      <td>1460.000000</td>\n",
       "      <td>1460.000000</td>\n",
       "      <td>1460.000000</td>\n",
       "      <td>1460.000000</td>\n",
       "    </tr>\n",
       "    <tr>\n",
       "      <th>mean</th>\n",
       "      <td>70.049958</td>\n",
       "      <td>10516.828082</td>\n",
       "      <td>1971.267808</td>\n",
       "      <td>1984.865753</td>\n",
       "      <td>103.685262</td>\n",
       "      <td>443.639726</td>\n",
       "      <td>46.549315</td>\n",
       "      <td>567.240411</td>\n",
       "      <td>1057.429452</td>\n",
       "      <td>1162.626712</td>\n",
       "      <td>...</td>\n",
       "      <td>94.244521</td>\n",
       "      <td>46.660274</td>\n",
       "      <td>21.954110</td>\n",
       "      <td>3.409589</td>\n",
       "      <td>15.060959</td>\n",
       "      <td>2.758904</td>\n",
       "      <td>43.489041</td>\n",
       "      <td>6.321918</td>\n",
       "      <td>2007.815753</td>\n",
       "      <td>180921.195890</td>\n",
       "    </tr>\n",
       "    <tr>\n",
       "      <th>std</th>\n",
       "      <td>24.284752</td>\n",
       "      <td>9981.264932</td>\n",
       "      <td>30.202904</td>\n",
       "      <td>20.645407</td>\n",
       "      <td>181.066207</td>\n",
       "      <td>456.098091</td>\n",
       "      <td>161.319273</td>\n",
       "      <td>441.866955</td>\n",
       "      <td>438.705324</td>\n",
       "      <td>386.587738</td>\n",
       "      <td>...</td>\n",
       "      <td>125.338794</td>\n",
       "      <td>66.256028</td>\n",
       "      <td>61.119149</td>\n",
       "      <td>29.317331</td>\n",
       "      <td>55.757415</td>\n",
       "      <td>40.177307</td>\n",
       "      <td>496.123024</td>\n",
       "      <td>2.703626</td>\n",
       "      <td>1.328095</td>\n",
       "      <td>79442.502883</td>\n",
       "    </tr>\n",
       "    <tr>\n",
       "      <th>min</th>\n",
       "      <td>21.000000</td>\n",
       "      <td>1300.000000</td>\n",
       "      <td>1872.000000</td>\n",
       "      <td>1950.000000</td>\n",
       "      <td>0.000000</td>\n",
       "      <td>0.000000</td>\n",
       "      <td>0.000000</td>\n",
       "      <td>0.000000</td>\n",
       "      <td>0.000000</td>\n",
       "      <td>334.000000</td>\n",
       "      <td>...</td>\n",
       "      <td>0.000000</td>\n",
       "      <td>0.000000</td>\n",
       "      <td>0.000000</td>\n",
       "      <td>0.000000</td>\n",
       "      <td>0.000000</td>\n",
       "      <td>0.000000</td>\n",
       "      <td>0.000000</td>\n",
       "      <td>1.000000</td>\n",
       "      <td>2006.000000</td>\n",
       "      <td>34900.000000</td>\n",
       "    </tr>\n",
       "    <tr>\n",
       "      <th>25%</th>\n",
       "      <td>59.000000</td>\n",
       "      <td>7553.500000</td>\n",
       "      <td>1954.000000</td>\n",
       "      <td>1967.000000</td>\n",
       "      <td>0.000000</td>\n",
       "      <td>0.000000</td>\n",
       "      <td>0.000000</td>\n",
       "      <td>223.000000</td>\n",
       "      <td>795.750000</td>\n",
       "      <td>882.000000</td>\n",
       "      <td>...</td>\n",
       "      <td>0.000000</td>\n",
       "      <td>0.000000</td>\n",
       "      <td>0.000000</td>\n",
       "      <td>0.000000</td>\n",
       "      <td>0.000000</td>\n",
       "      <td>0.000000</td>\n",
       "      <td>0.000000</td>\n",
       "      <td>5.000000</td>\n",
       "      <td>2007.000000</td>\n",
       "      <td>129975.000000</td>\n",
       "    </tr>\n",
       "    <tr>\n",
       "      <th>50%</th>\n",
       "      <td>69.000000</td>\n",
       "      <td>9478.500000</td>\n",
       "      <td>1973.000000</td>\n",
       "      <td>1994.000000</td>\n",
       "      <td>0.000000</td>\n",
       "      <td>383.500000</td>\n",
       "      <td>0.000000</td>\n",
       "      <td>477.500000</td>\n",
       "      <td>991.500000</td>\n",
       "      <td>1087.000000</td>\n",
       "      <td>...</td>\n",
       "      <td>0.000000</td>\n",
       "      <td>25.000000</td>\n",
       "      <td>0.000000</td>\n",
       "      <td>0.000000</td>\n",
       "      <td>0.000000</td>\n",
       "      <td>0.000000</td>\n",
       "      <td>0.000000</td>\n",
       "      <td>6.000000</td>\n",
       "      <td>2008.000000</td>\n",
       "      <td>163000.000000</td>\n",
       "    </tr>\n",
       "    <tr>\n",
       "      <th>75%</th>\n",
       "      <td>80.000000</td>\n",
       "      <td>11601.500000</td>\n",
       "      <td>2000.000000</td>\n",
       "      <td>2004.000000</td>\n",
       "      <td>166.000000</td>\n",
       "      <td>712.250000</td>\n",
       "      <td>0.000000</td>\n",
       "      <td>808.000000</td>\n",
       "      <td>1298.250000</td>\n",
       "      <td>1391.250000</td>\n",
       "      <td>...</td>\n",
       "      <td>168.000000</td>\n",
       "      <td>68.000000</td>\n",
       "      <td>0.000000</td>\n",
       "      <td>0.000000</td>\n",
       "      <td>0.000000</td>\n",
       "      <td>0.000000</td>\n",
       "      <td>0.000000</td>\n",
       "      <td>8.000000</td>\n",
       "      <td>2009.000000</td>\n",
       "      <td>214000.000000</td>\n",
       "    </tr>\n",
       "    <tr>\n",
       "      <th>max</th>\n",
       "      <td>313.000000</td>\n",
       "      <td>215245.000000</td>\n",
       "      <td>2010.000000</td>\n",
       "      <td>2010.000000</td>\n",
       "      <td>1600.000000</td>\n",
       "      <td>5644.000000</td>\n",
       "      <td>1474.000000</td>\n",
       "      <td>2336.000000</td>\n",
       "      <td>6110.000000</td>\n",
       "      <td>4692.000000</td>\n",
       "      <td>...</td>\n",
       "      <td>857.000000</td>\n",
       "      <td>547.000000</td>\n",
       "      <td>552.000000</td>\n",
       "      <td>508.000000</td>\n",
       "      <td>480.000000</td>\n",
       "      <td>738.000000</td>\n",
       "      <td>15500.000000</td>\n",
       "      <td>12.000000</td>\n",
       "      <td>2010.000000</td>\n",
       "      <td>755000.000000</td>\n",
       "    </tr>\n",
       "  </tbody>\n",
       "</table>\n",
       "<p>8 rows × 34 columns</p>\n",
       "</div>"
      ],
      "text/plain": [
       "       LotFrontage        LotArea    YearBuilt  YearRemodAdd   MasVnrArea  \\\n",
       "count  1201.000000    1460.000000  1460.000000   1460.000000  1452.000000   \n",
       "mean     70.049958   10516.828082  1971.267808   1984.865753   103.685262   \n",
       "std      24.284752    9981.264932    30.202904     20.645407   181.066207   \n",
       "min      21.000000    1300.000000  1872.000000   1950.000000     0.000000   \n",
       "25%      59.000000    7553.500000  1954.000000   1967.000000     0.000000   \n",
       "50%      69.000000    9478.500000  1973.000000   1994.000000     0.000000   \n",
       "75%      80.000000   11601.500000  2000.000000   2004.000000   166.000000   \n",
       "max     313.000000  215245.000000  2010.000000   2010.000000  1600.000000   \n",
       "\n",
       "        BsmtFinSF1   BsmtFinSF2    BsmtUnfSF  TotalBsmtSF     1stFlrSF  ...  \\\n",
       "count  1460.000000  1460.000000  1460.000000  1460.000000  1460.000000  ...   \n",
       "mean    443.639726    46.549315   567.240411  1057.429452  1162.626712  ...   \n",
       "std     456.098091   161.319273   441.866955   438.705324   386.587738  ...   \n",
       "min       0.000000     0.000000     0.000000     0.000000   334.000000  ...   \n",
       "25%       0.000000     0.000000   223.000000   795.750000   882.000000  ...   \n",
       "50%     383.500000     0.000000   477.500000   991.500000  1087.000000  ...   \n",
       "75%     712.250000     0.000000   808.000000  1298.250000  1391.250000  ...   \n",
       "max    5644.000000  1474.000000  2336.000000  6110.000000  4692.000000  ...   \n",
       "\n",
       "        WoodDeckSF  OpenPorchSF  EnclosedPorch    3SsnPorch  ScreenPorch  \\\n",
       "count  1460.000000  1460.000000    1460.000000  1460.000000  1460.000000   \n",
       "mean     94.244521    46.660274      21.954110     3.409589    15.060959   \n",
       "std     125.338794    66.256028      61.119149    29.317331    55.757415   \n",
       "min       0.000000     0.000000       0.000000     0.000000     0.000000   \n",
       "25%       0.000000     0.000000       0.000000     0.000000     0.000000   \n",
       "50%       0.000000    25.000000       0.000000     0.000000     0.000000   \n",
       "75%     168.000000    68.000000       0.000000     0.000000     0.000000   \n",
       "max     857.000000   547.000000     552.000000   508.000000   480.000000   \n",
       "\n",
       "          PoolArea       MiscVal       MoSold       YrSold      SalePrice  \n",
       "count  1460.000000   1460.000000  1460.000000  1460.000000    1460.000000  \n",
       "mean      2.758904     43.489041     6.321918  2007.815753  180921.195890  \n",
       "std      40.177307    496.123024     2.703626     1.328095   79442.502883  \n",
       "min       0.000000      0.000000     1.000000  2006.000000   34900.000000  \n",
       "25%       0.000000      0.000000     5.000000  2007.000000  129975.000000  \n",
       "50%       0.000000      0.000000     6.000000  2008.000000  163000.000000  \n",
       "75%       0.000000      0.000000     8.000000  2009.000000  214000.000000  \n",
       "max     738.000000  15500.000000    12.000000  2010.000000  755000.000000  \n",
       "\n",
       "[8 rows x 34 columns]"
      ]
     },
     "execution_count": 110,
     "metadata": {},
     "output_type": "execute_result"
    }
   ],
   "source": [
    "da.describe(include=['integer', 'float'])"
   ]
  },
  {
   "cell_type": "code",
   "execution_count": 111,
   "id": "79b900d3",
   "metadata": {},
   "outputs": [
    {
     "data": {
      "text/html": [
       "<div>\n",
       "<style scoped>\n",
       "    .dataframe tbody tr th:only-of-type {\n",
       "        vertical-align: middle;\n",
       "    }\n",
       "\n",
       "    .dataframe tbody tr th {\n",
       "        vertical-align: top;\n",
       "    }\n",
       "\n",
       "    .dataframe thead th {\n",
       "        text-align: right;\n",
       "    }\n",
       "</style>\n",
       "<table border=\"1\" class=\"dataframe\">\n",
       "  <thead>\n",
       "    <tr style=\"text-align: right;\">\n",
       "      <th></th>\n",
       "      <th>Id</th>\n",
       "      <th>MSSubClass</th>\n",
       "      <th>MSZoning</th>\n",
       "      <th>Street</th>\n",
       "      <th>Alley</th>\n",
       "      <th>LotShape</th>\n",
       "      <th>LandContour</th>\n",
       "      <th>Utilities</th>\n",
       "      <th>LotConfig</th>\n",
       "      <th>LandSlope</th>\n",
       "      <th>...</th>\n",
       "      <th>GarageType</th>\n",
       "      <th>GarageFinish</th>\n",
       "      <th>GarageQual</th>\n",
       "      <th>GarageCond</th>\n",
       "      <th>PavedDrive</th>\n",
       "      <th>PoolQC</th>\n",
       "      <th>Fence</th>\n",
       "      <th>MiscFeature</th>\n",
       "      <th>SaleType</th>\n",
       "      <th>SaleCondition</th>\n",
       "    </tr>\n",
       "  </thead>\n",
       "  <tbody>\n",
       "    <tr>\n",
       "      <th>count</th>\n",
       "      <td>1460</td>\n",
       "      <td>1460</td>\n",
       "      <td>1460</td>\n",
       "      <td>1460</td>\n",
       "      <td>91</td>\n",
       "      <td>1460</td>\n",
       "      <td>1460</td>\n",
       "      <td>1460</td>\n",
       "      <td>1460</td>\n",
       "      <td>1460</td>\n",
       "      <td>...</td>\n",
       "      <td>1379</td>\n",
       "      <td>1379</td>\n",
       "      <td>1379</td>\n",
       "      <td>1379</td>\n",
       "      <td>1460</td>\n",
       "      <td>7</td>\n",
       "      <td>281</td>\n",
       "      <td>54</td>\n",
       "      <td>1460</td>\n",
       "      <td>1460</td>\n",
       "    </tr>\n",
       "    <tr>\n",
       "      <th>unique</th>\n",
       "      <td>1460</td>\n",
       "      <td>15</td>\n",
       "      <td>5</td>\n",
       "      <td>2</td>\n",
       "      <td>2</td>\n",
       "      <td>4</td>\n",
       "      <td>4</td>\n",
       "      <td>2</td>\n",
       "      <td>5</td>\n",
       "      <td>3</td>\n",
       "      <td>...</td>\n",
       "      <td>6</td>\n",
       "      <td>3</td>\n",
       "      <td>5</td>\n",
       "      <td>5</td>\n",
       "      <td>3</td>\n",
       "      <td>3</td>\n",
       "      <td>4</td>\n",
       "      <td>4</td>\n",
       "      <td>9</td>\n",
       "      <td>6</td>\n",
       "    </tr>\n",
       "    <tr>\n",
       "      <th>top</th>\n",
       "      <td>1</td>\n",
       "      <td>20</td>\n",
       "      <td>RL</td>\n",
       "      <td>Pave</td>\n",
       "      <td>Grvl</td>\n",
       "      <td>Reg</td>\n",
       "      <td>Lvl</td>\n",
       "      <td>AllPub</td>\n",
       "      <td>Inside</td>\n",
       "      <td>Gtl</td>\n",
       "      <td>...</td>\n",
       "      <td>Attchd</td>\n",
       "      <td>Unf</td>\n",
       "      <td>TA</td>\n",
       "      <td>TA</td>\n",
       "      <td>Y</td>\n",
       "      <td>Gd</td>\n",
       "      <td>MnPrv</td>\n",
       "      <td>Shed</td>\n",
       "      <td>WD</td>\n",
       "      <td>Normal</td>\n",
       "    </tr>\n",
       "    <tr>\n",
       "      <th>freq</th>\n",
       "      <td>1</td>\n",
       "      <td>536</td>\n",
       "      <td>1151</td>\n",
       "      <td>1454</td>\n",
       "      <td>50</td>\n",
       "      <td>925</td>\n",
       "      <td>1311</td>\n",
       "      <td>1459</td>\n",
       "      <td>1052</td>\n",
       "      <td>1382</td>\n",
       "      <td>...</td>\n",
       "      <td>870</td>\n",
       "      <td>605</td>\n",
       "      <td>1311</td>\n",
       "      <td>1326</td>\n",
       "      <td>1340</td>\n",
       "      <td>3</td>\n",
       "      <td>157</td>\n",
       "      <td>49</td>\n",
       "      <td>1267</td>\n",
       "      <td>1198</td>\n",
       "    </tr>\n",
       "  </tbody>\n",
       "</table>\n",
       "<p>4 rows × 47 columns</p>\n",
       "</div>"
      ],
      "text/plain": [
       "          Id  MSSubClass MSZoning Street Alley LotShape LandContour Utilities  \\\n",
       "count   1460        1460     1460   1460    91     1460        1460      1460   \n",
       "unique  1460          15        5      2     2        4           4         2   \n",
       "top        1          20       RL   Pave  Grvl      Reg         Lvl    AllPub   \n",
       "freq       1         536     1151   1454    50      925        1311      1459   \n",
       "\n",
       "       LotConfig LandSlope  ... GarageType GarageFinish GarageQual GarageCond  \\\n",
       "count       1460      1460  ...       1379         1379       1379       1379   \n",
       "unique         5         3  ...          6            3          5          5   \n",
       "top       Inside       Gtl  ...     Attchd          Unf         TA         TA   \n",
       "freq        1052      1382  ...        870          605       1311       1326   \n",
       "\n",
       "       PavedDrive  PoolQC  Fence MiscFeature SaleType SaleCondition  \n",
       "count        1460       7    281          54     1460          1460  \n",
       "unique          3       3      4           4        9             6  \n",
       "top             Y      Gd  MnPrv        Shed       WD        Normal  \n",
       "freq         1340       3    157          49     1267          1198  \n",
       "\n",
       "[4 rows x 47 columns]"
      ]
     },
     "execution_count": 111,
     "metadata": {},
     "output_type": "execute_result"
    }
   ],
   "source": [
    "da.describe(include=['object'])"
   ]
  },
  {
   "cell_type": "code",
   "execution_count": 112,
   "id": "9f17d374",
   "metadata": {},
   "outputs": [
    {
     "name": "stdout",
     "output_type": "stream",
     "text": [
      "<class 'pandas.core.frame.DataFrame'>\n",
      "RangeIndex: 1460 entries, 0 to 1459\n",
      "Data columns (total 81 columns):\n",
      " #   Column         Non-Null Count  Dtype  \n",
      "---  ------         --------------  -----  \n",
      " 0   Id             1460 non-null   object \n",
      " 1   MSSubClass     1460 non-null   object \n",
      " 2   MSZoning       1460 non-null   object \n",
      " 3   LotFrontage    1201 non-null   float64\n",
      " 4   LotArea        1460 non-null   int64  \n",
      " 5   Street         1460 non-null   object \n",
      " 6   Alley          91 non-null     object \n",
      " 7   LotShape       1460 non-null   object \n",
      " 8   LandContour    1460 non-null   object \n",
      " 9   Utilities      1460 non-null   object \n",
      " 10  LotConfig      1460 non-null   object \n",
      " 11  LandSlope      1460 non-null   object \n",
      " 12  Neighborhood   1460 non-null   object \n",
      " 13  Condition1     1460 non-null   object \n",
      " 14  Condition2     1460 non-null   object \n",
      " 15  BldgType       1460 non-null   object \n",
      " 16  HouseStyle     1460 non-null   object \n",
      " 17  OverallQual    1460 non-null   object \n",
      " 18  OverallCond    1460 non-null   object \n",
      " 19  YearBuilt      1460 non-null   int64  \n",
      " 20  YearRemodAdd   1460 non-null   int64  \n",
      " 21  RoofStyle      1460 non-null   object \n",
      " 22  RoofMatl       1460 non-null   object \n",
      " 23  Exterior1st    1460 non-null   object \n",
      " 24  Exterior2nd    1460 non-null   object \n",
      " 25  MasVnrType     1452 non-null   object \n",
      " 26  MasVnrArea     1452 non-null   float64\n",
      " 27  ExterQual      1460 non-null   object \n",
      " 28  ExterCond      1460 non-null   object \n",
      " 29  Foundation     1460 non-null   object \n",
      " 30  BsmtQual       1423 non-null   object \n",
      " 31  BsmtCond       1423 non-null   object \n",
      " 32  BsmtExposure   1422 non-null   object \n",
      " 33  BsmtFinType1   1423 non-null   object \n",
      " 34  BsmtFinSF1     1460 non-null   int64  \n",
      " 35  BsmtFinType2   1422 non-null   object \n",
      " 36  BsmtFinSF2     1460 non-null   int64  \n",
      " 37  BsmtUnfSF      1460 non-null   int64  \n",
      " 38  TotalBsmtSF    1460 non-null   int64  \n",
      " 39  Heating        1460 non-null   object \n",
      " 40  HeatingQC      1460 non-null   object \n",
      " 41  CentralAir     1460 non-null   object \n",
      " 42  Electrical     1459 non-null   object \n",
      " 43  1stFlrSF       1460 non-null   int64  \n",
      " 44  2ndFlrSF       1460 non-null   int64  \n",
      " 45  LowQualFinSF   1460 non-null   int64  \n",
      " 46  GrLivArea      1460 non-null   int64  \n",
      " 47  BsmtFullBath   1460 non-null   int64  \n",
      " 48  BsmtHalfBath   1460 non-null   int64  \n",
      " 49  FullBath       1460 non-null   int64  \n",
      " 50  HalfBath       1460 non-null   int64  \n",
      " 51  BedroomAbvGr   1460 non-null   int64  \n",
      " 52  KitchenAbvGr   1460 non-null   int64  \n",
      " 53  KitchenQual    1460 non-null   object \n",
      " 54  TotRmsAbvGrd   1460 non-null   int64  \n",
      " 55  Functional     1460 non-null   object \n",
      " 56  Fireplaces     1460 non-null   int64  \n",
      " 57  FireplaceQu    770 non-null    object \n",
      " 58  GarageType     1379 non-null   object \n",
      " 59  GarageYrBlt    1379 non-null   float64\n",
      " 60  GarageFinish   1379 non-null   object \n",
      " 61  GarageCars     1460 non-null   int64  \n",
      " 62  GarageArea     1460 non-null   int64  \n",
      " 63  GarageQual     1379 non-null   object \n",
      " 64  GarageCond     1379 non-null   object \n",
      " 65  PavedDrive     1460 non-null   object \n",
      " 66  WoodDeckSF     1460 non-null   int64  \n",
      " 67  OpenPorchSF    1460 non-null   int64  \n",
      " 68  EnclosedPorch  1460 non-null   int64  \n",
      " 69  3SsnPorch      1460 non-null   int64  \n",
      " 70  ScreenPorch    1460 non-null   int64  \n",
      " 71  PoolArea       1460 non-null   int64  \n",
      " 72  PoolQC         7 non-null      object \n",
      " 73  Fence          281 non-null    object \n",
      " 74  MiscFeature    54 non-null     object \n",
      " 75  MiscVal        1460 non-null   int64  \n",
      " 76  MoSold         1460 non-null   int64  \n",
      " 77  YrSold         1460 non-null   int64  \n",
      " 78  SaleType       1460 non-null   object \n",
      " 79  SaleCondition  1460 non-null   object \n",
      " 80  SalePrice      1460 non-null   int64  \n",
      "dtypes: float64(3), int64(31), object(47)\n",
      "memory usage: 924.0+ KB\n"
     ]
    }
   ],
   "source": [
    "da.info()"
   ]
  },
  {
   "cell_type": "code",
   "execution_count": 113,
   "id": "27230f99",
   "metadata": {},
   "outputs": [
    {
     "data": {
      "text/plain": [
       "Id                 0\n",
       "MSSubClass         0\n",
       "MSZoning           0\n",
       "LotFrontage      259\n",
       "LotArea            0\n",
       "Street             0\n",
       "Alley           1369\n",
       "LotShape           0\n",
       "LandContour        0\n",
       "Utilities          0\n",
       "LotConfig          0\n",
       "LandSlope          0\n",
       "Neighborhood       0\n",
       "Condition1         0\n",
       "Condition2         0\n",
       "BldgType           0\n",
       "HouseStyle         0\n",
       "OverallQual        0\n",
       "OverallCond        0\n",
       "YearBuilt          0\n",
       "YearRemodAdd       0\n",
       "RoofStyle          0\n",
       "RoofMatl           0\n",
       "Exterior1st        0\n",
       "Exterior2nd        0\n",
       "MasVnrType         8\n",
       "MasVnrArea         8\n",
       "ExterQual          0\n",
       "ExterCond          0\n",
       "Foundation         0\n",
       "BsmtQual          37\n",
       "BsmtCond          37\n",
       "BsmtExposure      38\n",
       "BsmtFinType1      37\n",
       "BsmtFinSF1         0\n",
       "BsmtFinType2      38\n",
       "BsmtFinSF2         0\n",
       "BsmtUnfSF          0\n",
       "TotalBsmtSF        0\n",
       "Heating            0\n",
       "dtype: int64"
      ]
     },
     "execution_count": 113,
     "metadata": {},
     "output_type": "execute_result"
    }
   ],
   "source": [
    "da.isnull().sum().head(40)"
   ]
  },
  {
   "cell_type": "code",
   "execution_count": 114,
   "id": "54f417eb",
   "metadata": {},
   "outputs": [
    {
     "data": {
      "text/plain": [
       "HeatingQC           0\n",
       "CentralAir          0\n",
       "Electrical          1\n",
       "1stFlrSF            0\n",
       "2ndFlrSF            0\n",
       "LowQualFinSF        0\n",
       "GrLivArea           0\n",
       "BsmtFullBath        0\n",
       "BsmtHalfBath        0\n",
       "FullBath            0\n",
       "HalfBath            0\n",
       "BedroomAbvGr        0\n",
       "KitchenAbvGr        0\n",
       "KitchenQual         0\n",
       "TotRmsAbvGrd        0\n",
       "Functional          0\n",
       "Fireplaces          0\n",
       "FireplaceQu       690\n",
       "GarageType         81\n",
       "GarageYrBlt        81\n",
       "GarageFinish       81\n",
       "GarageCars          0\n",
       "GarageArea          0\n",
       "GarageQual         81\n",
       "GarageCond         81\n",
       "PavedDrive          0\n",
       "WoodDeckSF          0\n",
       "OpenPorchSF         0\n",
       "EnclosedPorch       0\n",
       "3SsnPorch           0\n",
       "ScreenPorch         0\n",
       "PoolArea            0\n",
       "PoolQC           1453\n",
       "Fence            1179\n",
       "MiscFeature      1406\n",
       "MiscVal             0\n",
       "MoSold              0\n",
       "YrSold              0\n",
       "SaleType            0\n",
       "SaleCondition       0\n",
       "SalePrice           0\n",
       "dtype: int64"
      ]
     },
     "execution_count": 114,
     "metadata": {},
     "output_type": "execute_result"
    }
   ],
   "source": [
    "da.isnull().sum().tail(41)"
   ]
  },
  {
   "cell_type": "code",
   "execution_count": 115,
   "id": "901fda76",
   "metadata": {},
   "outputs": [],
   "source": [
    "da.dropna(axis=1, thresh=0.70*len(da),inplace=True)"
   ]
  },
  {
   "cell_type": "code",
   "execution_count": 116,
   "id": "1ccf0ad2",
   "metadata": {},
   "outputs": [
    {
     "data": {
      "text/plain": [
       "(1460, 76)"
      ]
     },
     "execution_count": 116,
     "metadata": {},
     "output_type": "execute_result"
    }
   ],
   "source": [
    "da.shape"
   ]
  },
  {
   "cell_type": "code",
   "execution_count": 117,
   "id": "c385b447",
   "metadata": {},
   "outputs": [
    {
     "data": {
      "text/plain": [
       "Id                0\n",
       "MSSubClass        0\n",
       "MSZoning          0\n",
       "LotFrontage     259\n",
       "LotArea           0\n",
       "Street            0\n",
       "LotShape          0\n",
       "LandContour       0\n",
       "Utilities         0\n",
       "LotConfig         0\n",
       "LandSlope         0\n",
       "Neighborhood      0\n",
       "Condition1        0\n",
       "Condition2        0\n",
       "BldgType          0\n",
       "HouseStyle        0\n",
       "OverallQual       0\n",
       "OverallCond       0\n",
       "YearBuilt         0\n",
       "YearRemodAdd      0\n",
       "RoofStyle         0\n",
       "RoofMatl          0\n",
       "Exterior1st       0\n",
       "Exterior2nd       0\n",
       "MasVnrType        8\n",
       "MasVnrArea        8\n",
       "ExterQual         0\n",
       "ExterCond         0\n",
       "Foundation        0\n",
       "BsmtQual         37\n",
       "BsmtCond         37\n",
       "BsmtExposure     38\n",
       "BsmtFinType1     37\n",
       "BsmtFinSF1        0\n",
       "BsmtFinType2     38\n",
       "BsmtFinSF2        0\n",
       "BsmtUnfSF         0\n",
       "TotalBsmtSF       0\n",
       "Heating           0\n",
       "HeatingQC         0\n",
       "dtype: int64"
      ]
     },
     "execution_count": 117,
     "metadata": {},
     "output_type": "execute_result"
    }
   ],
   "source": [
    "da.isnull().sum().head(40)"
   ]
  },
  {
   "cell_type": "code",
   "execution_count": 118,
   "id": "05264f04",
   "metadata": {},
   "outputs": [],
   "source": [
    "da['BsmtQual'] = da['BsmtQual'].replace(['NA'],['NO'])"
   ]
  },
  {
   "cell_type": "code",
   "execution_count": 119,
   "id": "a336bb7f",
   "metadata": {},
   "outputs": [],
   "source": [
    "da['BsmtCond'] = da['BsmtCond'].replace(['NA'],['NO'])"
   ]
  },
  {
   "cell_type": "code",
   "execution_count": 120,
   "id": "35dc3629",
   "metadata": {},
   "outputs": [],
   "source": [
    "da['BsmtExposure'] = da['BsmtExposure'].replace(['NA'],['NO'])"
   ]
  },
  {
   "cell_type": "code",
   "execution_count": 121,
   "id": "7c7094e2",
   "metadata": {},
   "outputs": [],
   "source": [
    "da['BsmtFinType1'] = da['BsmtFinType1'].replace(['NA'],['NO'])"
   ]
  },
  {
   "cell_type": "code",
   "execution_count": 122,
   "id": "78968d6b",
   "metadata": {},
   "outputs": [],
   "source": [
    "da['BsmtFinType2'] = da['BsmtFinType2'].replace(['NA'],['NO'])"
   ]
  },
  {
   "cell_type": "code",
   "execution_count": 123,
   "id": "824f37bc",
   "metadata": {},
   "outputs": [],
   "source": [
    "da['GarageType'] = da['GarageType'].replace(['NA'],['NO'])"
   ]
  },
  {
   "cell_type": "code",
   "execution_count": 124,
   "id": "b60e0e70",
   "metadata": {},
   "outputs": [],
   "source": [
    "da['GarageFinish'] = da['GarageFinish'].replace(['NA'],['NO'])"
   ]
  },
  {
   "cell_type": "code",
   "execution_count": 125,
   "id": "72daea58",
   "metadata": {},
   "outputs": [],
   "source": [
    "da['GarageQual'] = da['GarageQual'].replace(['NA'],['NO'])"
   ]
  },
  {
   "cell_type": "code",
   "execution_count": 126,
   "id": "4ac9b6a0",
   "metadata": {},
   "outputs": [],
   "source": [
    "da['GarageCond'] = da['GarageCond'].replace(['NA'],['NO'])"
   ]
  },
  {
   "cell_type": "code",
   "execution_count": 127,
   "id": "541a37df",
   "metadata": {},
   "outputs": [
    {
     "data": {
      "text/plain": [
       "Id                0\n",
       "MSSubClass        0\n",
       "MSZoning          0\n",
       "LotFrontage     259\n",
       "LotArea           0\n",
       "Street            0\n",
       "LotShape          0\n",
       "LandContour       0\n",
       "Utilities         0\n",
       "LotConfig         0\n",
       "LandSlope         0\n",
       "Neighborhood      0\n",
       "Condition1        0\n",
       "Condition2        0\n",
       "BldgType          0\n",
       "HouseStyle        0\n",
       "OverallQual       0\n",
       "OverallCond       0\n",
       "YearBuilt         0\n",
       "YearRemodAdd      0\n",
       "RoofStyle         0\n",
       "RoofMatl          0\n",
       "Exterior1st       0\n",
       "Exterior2nd       0\n",
       "MasVnrType        8\n",
       "MasVnrArea        8\n",
       "ExterQual         0\n",
       "ExterCond         0\n",
       "Foundation        0\n",
       "BsmtQual         37\n",
       "BsmtCond         37\n",
       "BsmtExposure     38\n",
       "BsmtFinType1     37\n",
       "BsmtFinSF1        0\n",
       "BsmtFinType2     38\n",
       "BsmtFinSF2        0\n",
       "BsmtUnfSF         0\n",
       "TotalBsmtSF       0\n",
       "Heating           0\n",
       "HeatingQC         0\n",
       "dtype: int64"
      ]
     },
     "execution_count": 127,
     "metadata": {},
     "output_type": "execute_result"
    }
   ],
   "source": [
    "da.isnull().sum().head(40)\n"
   ]
  },
  {
   "cell_type": "code",
   "execution_count": 128,
   "id": "21b35c65",
   "metadata": {},
   "outputs": [],
   "source": [
    "da.dropna(how='any', inplace=True)"
   ]
  },
  {
   "cell_type": "code",
   "execution_count": 129,
   "id": "f505341c",
   "metadata": {},
   "outputs": [
    {
     "data": {
      "text/plain": [
       "(1094, 76)"
      ]
     },
     "execution_count": 129,
     "metadata": {},
     "output_type": "execute_result"
    }
   ],
   "source": [
    "da.shape"
   ]
  },
  {
   "cell_type": "code",
   "execution_count": 130,
   "id": "8d13e60d",
   "metadata": {},
   "outputs": [],
   "source": [
    "da.reset_index(drop=True, inplace=True)"
   ]
  },
  {
   "cell_type": "code",
   "execution_count": 131,
   "id": "53df5597",
   "metadata": {},
   "outputs": [
    {
     "data": {
      "text/plain": [
       "<AxesSubplot:>"
      ]
     },
     "execution_count": 131,
     "metadata": {},
     "output_type": "execute_result"
    },
    {
     "data": {
      "image/png": "[encoded data removed]",
      "text/plain": [
       "<Figure size 720x720 with 1 Axes>"
      ]
     },
     "metadata": {
      "needs_background": "light"
     },
     "output_type": "display_data"
    }
   ],
   "source": [
    "da['MSZoning'].value_counts().plot(kind='bar', figsize=(10,10))"
   ]
  },
  {
   "cell_type": "code",
   "execution_count": 132,
   "id": "75dbf161",
   "metadata": {},
   "outputs": [
    {
     "data": {
      "text/plain": [
       "<AxesSubplot:>"
      ]
     },
     "execution_count": 132,
     "metadata": {},
     "output_type": "execute_result"
    },
    {
     "data": {
      "image/png": "[encoded data removed]",
      "text/plain": [
       "<Figure size 1440x720 with 1 Axes>"
      ]
     },
     "metadata": {
      "needs_background": "light"
     },
     "output_type": "display_data"
    }
   ],
   "source": [
    "da['Street'].value_counts().plot(kind='bar', figsize=(20,10))"
   ]
  },
  {
   "cell_type": "code",
   "execution_count": 133,
   "id": "2a5dd71d",
   "metadata": {},
   "outputs": [
    {
     "data": {
      "text/plain": [
       "<AxesSubplot:>"
      ]
     },
     "execution_count": 133,
     "metadata": {},
     "output_type": "execute_result"
    },
    {
     "data": {
      "image/png": "[encoded data removed]",
      "text/plain": [
       "<Figure size 1440x720 with 1 Axes>"
      ]
     },
     "metadata": {
      "needs_background": "light"
     },
     "output_type": "display_data"
    }
   ],
   "source": [
    "da['HouseStyle'].value_counts().plot(kind='bar', figsize=(20,10))"
   ]
  },
  {
   "cell_type": "code",
   "execution_count": 134,
   "id": "079d4cb3",
   "metadata": {},
   "outputs": [
    {
     "data": {
      "text/plain": [
       "<AxesSubplot:>"
      ]
     },
     "execution_count": 134,
     "metadata": {},
     "output_type": "execute_result"
    },
    {
     "data": {
      "image/png": "[encoded data removed]",
      "text/plain": [
       "<Figure size 1440x720 with 1 Axes>"
      ]
     },
     "metadata": {
      "needs_background": "light"
     },
     "output_type": "display_data"
    }
   ],
   "source": [
    "da['LotShape'].value_counts().plot(kind='bar', figsize=(20,10))"
   ]
  },
  {
   "cell_type": "code",
   "execution_count": 135,
   "id": "b606aa42",
   "metadata": {},
   "outputs": [
    {
     "data": {
      "text/plain": [
       "<AxesSubplot:>"
      ]
     },
     "execution_count": 135,
     "metadata": {},
     "output_type": "execute_result"
    },
    {
     "data": {
      "image/png": "[encoded data removed]",
      "text/plain": [
       "<Figure size 1440x720 with 1 Axes>"
      ]
     },
     "metadata": {
      "needs_background": "light"
     },
     "output_type": "display_data"
    }
   ],
   "source": [
    "da['LandContour'].value_counts().plot(kind='bar', figsize=(20,10))"
   ]
  },
  {
   "cell_type": "code",
   "execution_count": 136,
   "id": "20461aa9",
   "metadata": {},
   "outputs": [
    {
     "data": {
      "text/plain": [
       "<AxesSubplot:>"
      ]
     },
     "execution_count": 136,
     "metadata": {},
     "output_type": "execute_result"
    },
    {
     "data": {
      "image/png": "[encoded data removed]",
      "text/plain": [
       "<Figure size 1440x720 with 1 Axes>"
      ]
     },
     "metadata": {
      "needs_background": "light"
     },
     "output_type": "display_data"
    }
   ],
   "source": [
    "da['Utilities'].value_counts().plot(kind='bar', figsize=(20,10))"
   ]
  },
  {
   "cell_type": "code",
   "execution_count": 137,
   "id": "92acf2e7",
   "metadata": {},
   "outputs": [
    {
     "data": {
      "text/plain": [
       "<AxesSubplot:>"
      ]
     },
     "execution_count": 137,
     "metadata": {},
     "output_type": "execute_result"
    },
    {
     "data": {
      "image/png": "[encoded data removed]",
      "text/plain": [
       "<Figure size 1440x720 with 1 Axes>"
      ]
     },
     "metadata": {
      "needs_background": "light"
     },
     "output_type": "display_data"
    }
   ],
   "source": [
    "da['LotConfig'].value_counts().plot(kind='bar', figsize=(20,10))"
   ]
  },
  {
   "cell_type": "code",
   "execution_count": 138,
   "id": "26152480",
   "metadata": {},
   "outputs": [
    {
     "data": {
      "text/plain": [
       "<AxesSubplot:>"
      ]
     },
     "execution_count": 138,
     "metadata": {},
     "output_type": "execute_result"
    },
    {
     "data": {
      "image/png": "[encoded data removed]",
      "text/plain": [
       "<Figure size 1440x720 with 1 Axes>"
      ]
     },
     "metadata": {
      "needs_background": "light"
     },
     "output_type": "display_data"
    }
   ],
   "source": [
    "da['LandSlope'].value_counts().plot(kind='bar', figsize=(20,10))"
   ]
  },
  {
   "cell_type": "code",
   "execution_count": 139,
   "id": "20115317",
   "metadata": {},
   "outputs": [
    {
     "name": "stderr",
     "output_type": "stream",
     "text": [
      "C:\\Users\\saad\\anaconda3\\lib\\site-packages\\seaborn\\distributions.py:2619: FutureWarning: `distplot` is a deprecated function and will be removed in a future version. Please adapt your code to use either `displot` (a figure-level function with similar flexibility) or `histplot` (an axes-level function for histograms).\n",
      "  warnings.warn(msg, FutureWarning)\n"
     ]
    },
    {
     "data": {
      "text/plain": [
       "<AxesSubplot:xlabel='LotArea', ylabel='Density'>"
      ]
     },
     "execution_count": 139,
     "metadata": {},
     "output_type": "execute_result"
    },
    {
     "data": {
      "image/png": "[encoded data removed]",
      "text/plain": [
       "<Figure size 432x288 with 1 Axes>"
      ]
     },
     "metadata": {
      "needs_background": "light"
     },
     "output_type": "display_data"
    }
   ],
   "source": [
    "sns.distplot(da['LotArea'])"
   ]
  },
  {
   "cell_type": "code",
   "execution_count": 140,
   "id": "f9aee32c",
   "metadata": {},
   "outputs": [
    {
     "name": "stderr",
     "output_type": "stream",
     "text": [
      "C:\\Users\\saad\\anaconda3\\lib\\site-packages\\seaborn\\distributions.py:2619: FutureWarning: `distplot` is a deprecated function and will be removed in a future version. Please adapt your code to use either `displot` (a figure-level function with similar flexibility) or `histplot` (an axes-level function for histograms).\n",
      "  warnings.warn(msg, FutureWarning)\n"
     ]
    },
    {
     "data": {
      "text/plain": [
       "<AxesSubplot:xlabel='MasVnrArea', ylabel='Density'>"
      ]
     },
     "execution_count": 140,
     "metadata": {},
     "output_type": "execute_result"
    },
    {
     "data": {
      "image/png": "[encoded data removed]",
      "text/plain": [
       "<Figure size 432x288 with 1 Axes>"
      ]
     },
     "metadata": {
      "needs_background": "light"
     },
     "output_type": "display_data"
    }
   ],
   "source": [
    "sns.distplot(da['MasVnrArea'])"
   ]
  },
  {
   "cell_type": "code",
   "execution_count": 141,
   "id": "1ab0b89e",
   "metadata": {},
   "outputs": [
    {
     "name": "stderr",
     "output_type": "stream",
     "text": [
      "C:\\Users\\saad\\anaconda3\\lib\\site-packages\\seaborn\\distributions.py:2619: FutureWarning: `distplot` is a deprecated function and will be removed in a future version. Please adapt your code to use either `displot` (a figure-level function with similar flexibility) or `histplot` (an axes-level function for histograms).\n",
      "  warnings.warn(msg, FutureWarning)\n"
     ]
    },
    {
     "data": {
      "text/plain": [
       "<AxesSubplot:xlabel='BsmtFinSF2', ylabel='Density'>"
      ]
     },
     "execution_count": 141,
     "metadata": {},
     "output_type": "execute_result"
    },
    {
     "data": {
      "image/png": "[encoded data removed]",
      "text/plain": [
       "<Figure size 432x288 with 1 Axes>"
      ]
     },
     "metadata": {
      "needs_background": "light"
     },
     "output_type": "display_data"
    }
   ],
   "source": [
    "sns.distplot(da['BsmtFinSF2'])"
   ]
  },
  {
   "cell_type": "code",
   "execution_count": 142,
   "id": "e53ce0a3",
   "metadata": {},
   "outputs": [
    {
     "name": "stderr",
     "output_type": "stream",
     "text": [
      "C:\\Users\\saad\\anaconda3\\lib\\site-packages\\seaborn\\distributions.py:2619: FutureWarning: `distplot` is a deprecated function and will be removed in a future version. Please adapt your code to use either `displot` (a figure-level function with similar flexibility) or `histplot` (an axes-level function for histograms).\n",
      "  warnings.warn(msg, FutureWarning)\n"
     ]
    },
    {
     "data": {
      "text/plain": [
       "<AxesSubplot:xlabel='BsmtUnfSF', ylabel='Density'>"
      ]
     },
     "execution_count": 142,
     "metadata": {},
     "output_type": "execute_result"
    },
    {
     "data": {
      "image/png": "[encoded data removed]",
      "text/plain": [
       "<Figure size 432x288 with 1 Axes>"
      ]
     },
     "metadata": {
      "needs_background": "light"
     },
     "output_type": "display_data"
    }
   ],
   "source": [
    "sns.distplot(da['BsmtUnfSF'])"
   ]
  },
  {
   "cell_type": "code",
   "execution_count": 143,
   "id": "4c85bbd7",
   "metadata": {},
   "outputs": [
    {
     "name": "stderr",
     "output_type": "stream",
     "text": [
      "C:\\Users\\saad\\anaconda3\\lib\\site-packages\\seaborn\\distributions.py:2619: FutureWarning: `distplot` is a deprecated function and will be removed in a future version. Please adapt your code to use either `displot` (a figure-level function with similar flexibility) or `histplot` (an axes-level function for histograms).\n",
      "  warnings.warn(msg, FutureWarning)\n"
     ]
    },
    {
     "data": {
      "text/plain": [
       "<AxesSubplot:xlabel='TotalBsmtSF', ylabel='Density'>"
      ]
     },
     "execution_count": 143,
     "metadata": {},
     "output_type": "execute_result"
    },
    {
     "data": {
      "image/png": "[encoded data removed]",
      "text/plain": [
       "<Figure size 432x288 with 1 Axes>"
      ]
     },
     "metadata": {
      "needs_background": "light"
     },
     "output_type": "display_data"
    }
   ],
   "source": [
    "sns.distplot(da['TotalBsmtSF'])"
   ]
  },
  {
   "cell_type": "code",
   "execution_count": 144,
   "id": "ab88981d",
   "metadata": {},
   "outputs": [
    {
     "name": "stderr",
     "output_type": "stream",
     "text": [
      "C:\\Users\\saad\\anaconda3\\lib\\site-packages\\seaborn\\distributions.py:2619: FutureWarning: `distplot` is a deprecated function and will be removed in a future version. Please adapt your code to use either `displot` (a figure-level function with similar flexibility) or `histplot` (an axes-level function for histograms).\n",
      "  warnings.warn(msg, FutureWarning)\n"
     ]
    },
    {
     "data": {
      "text/plain": [
       "<AxesSubplot:xlabel='1stFlrSF', ylabel='Density'>"
      ]
     },
     "execution_count": 144,
     "metadata": {},
     "output_type": "execute_result"
    },
    {
     "data": {
      "image/png": "[encoded data removed]",
      "text/plain": [
       "<Figure size 432x288 with 1 Axes>"
      ]
     },
     "metadata": {
      "needs_background": "light"
     },
     "output_type": "display_data"
    }
   ],
   "source": [
    "sns.distplot(da['1stFlrSF'])"
   ]
  },
  {
   "cell_type": "code",
   "execution_count": 145,
   "id": "3b8f9ae4",
   "metadata": {},
   "outputs": [
    {
     "name": "stderr",
     "output_type": "stream",
     "text": [
      "C:\\Users\\saad\\anaconda3\\lib\\site-packages\\seaborn\\distributions.py:2619: FutureWarning: `distplot` is a deprecated function and will be removed in a future version. Please adapt your code to use either `displot` (a figure-level function with similar flexibility) or `histplot` (an axes-level function for histograms).\n",
      "  warnings.warn(msg, FutureWarning)\n"
     ]
    },
    {
     "data": {
      "text/plain": [
       "<AxesSubplot:xlabel='2ndFlrSF', ylabel='Density'>"
      ]
     },
     "execution_count": 145,
     "metadata": {},
     "output_type": "execute_result"
    },
    {
     "data": {
      "image/png": "[encoded data removed]",
      "text/plain": [
       "<Figure size 432x288 with 1 Axes>"
      ]
     },
     "metadata": {
      "needs_background": "light"
     },
     "output_type": "display_data"
    }
   ],
   "source": [
    "sns.distplot(da['2ndFlrSF'])"
   ]
  },
  {
   "cell_type": "code",
   "execution_count": 146,
   "id": "2b999652",
   "metadata": {},
   "outputs": [
    {
     "name": "stderr",
     "output_type": "stream",
     "text": [
      "C:\\Users\\saad\\anaconda3\\lib\\site-packages\\seaborn\\distributions.py:2619: FutureWarning: `distplot` is a deprecated function and will be removed in a future version. Please adapt your code to use either `displot` (a figure-level function with similar flexibility) or `histplot` (an axes-level function for histograms).\n",
      "  warnings.warn(msg, FutureWarning)\n"
     ]
    },
    {
     "data": {
      "text/plain": [
       "<AxesSubplot:xlabel='LowQualFinSF', ylabel='Density'>"
      ]
     },
     "execution_count": 146,
     "metadata": {},
     "output_type": "execute_result"
    },
    {
     "data": {
      "image/png": "[encoded data removed]",
      "text/plain": [
       "<Figure size 432x288 with 1 Axes>"
      ]
     },
     "metadata": {
      "needs_background": "light"
     },
     "output_type": "display_data"
    }
   ],
   "source": [
    "sns.distplot(da['LowQualFinSF'])"
   ]
  },
  {
   "cell_type": "code",
   "execution_count": 147,
   "id": "ed60753e",
   "metadata": {},
   "outputs": [
    {
     "name": "stderr",
     "output_type": "stream",
     "text": [
      "C:\\Users\\saad\\anaconda3\\lib\\site-packages\\seaborn\\distributions.py:2619: FutureWarning: `distplot` is a deprecated function and will be removed in a future version. Please adapt your code to use either `displot` (a figure-level function with similar flexibility) or `histplot` (an axes-level function for histograms).\n",
      "  warnings.warn(msg, FutureWarning)\n"
     ]
    },
    {
     "data": {
      "text/plain": [
       "<AxesSubplot:xlabel='SalePrice', ylabel='Density'>"
      ]
     },
     "execution_count": 147,
     "metadata": {},
     "output_type": "execute_result"
    },
    {
     "data": {
      "image/png": "[encoded data removed]",
      "text/plain": [
       "<Figure size 432x288 with 1 Axes>"
      ]
     },
     "metadata": {
      "needs_background": "light"
     },
     "output_type": "display_data"
    }
   ],
   "source": [
    "sns.distplot(da['SalePrice'])"
   ]
  },
  {
   "cell_type": "code",
   "execution_count": 148,
   "id": "af1c4f6b",
   "metadata": {},
   "outputs": [],
   "source": [
    "data1=da.copy()"
   ]
  },
  {
   "cell_type": "code",
   "execution_count": 149,
   "id": "a89df492",
   "metadata": {},
   "outputs": [],
   "source": [
    "ordinal_list=['ExterQual','ExterCond','BsmtQual','BsmtCond','HeatingQC','KitchenQual' , 'GarageQual','GarageCond' ]"
   ]
  },
  {
   "cell_type": "code",
   "execution_count": 150,
   "id": "9be03478",
   "metadata": {},
   "outputs": [],
   "source": [
    "da['ExterQual'] = da['ExterQual'].replace(['Ex','Gd','TA','Fa', 'Po'],[1,2,3,4,5])"
   ]
  },
  {
   "cell_type": "code",
   "execution_count": 151,
   "id": "59810429",
   "metadata": {},
   "outputs": [],
   "source": [
    "da['ExterCond'] = da['ExterCond'].replace(['Ex','Gd','TA','Fa', 'Po'],[1,2,3,4,5])"
   ]
  },
  {
   "cell_type": "code",
   "execution_count": 152,
   "id": "2341ede8",
   "metadata": {},
   "outputs": [],
   "source": [
    "da['HeatingQC'] = da['HeatingQC'].replace(['Ex','Gd','TA','Fa', 'Po'],[1,2,3,4,5])"
   ]
  },
  {
   "cell_type": "code",
   "execution_count": 153,
   "id": "82b289fa",
   "metadata": {},
   "outputs": [],
   "source": [
    "da['KitchenQual'] = da['KitchenQual'].replace(['Ex','Gd','TA','Fa', 'Po'],[1,2,3,4,5])"
   ]
  },
  {
   "cell_type": "code",
   "execution_count": 154,
   "id": "58e956ea",
   "metadata": {},
   "outputs": [],
   "source": [
    "da['BsmtQual'] = da['BsmtQual'].replace(['Ex','Gd','TA','Fa', 'Po','NO'],[1,2,3,4,5,6])"
   ]
  },
  {
   "cell_type": "code",
   "execution_count": 155,
   "id": "9f691c7b",
   "metadata": {},
   "outputs": [],
   "source": [
    "da['BsmtCond'] = da['BsmtCond'].replace(['Ex','Gd','TA','Fa', 'Po','NO'],[1,2,3,4,5,6])"
   ]
  },
  {
   "cell_type": "code",
   "execution_count": null,
   "id": "fc0fa2d0",
   "metadata": {},
   "outputs": [],
   "source": []
  },
  {
   "cell_type": "code",
   "execution_count": 156,
   "id": "260bec6d",
   "metadata": {},
   "outputs": [],
   "source": [
    "da['GarageQual'] = da['GarageQual'].replace(['Ex','Gd','TA','Fa', 'Po','NO'],[1,2,3,4,5,6])"
   ]
  },
  {
   "cell_type": "code",
   "execution_count": 157,
   "id": "a70b9273",
   "metadata": {},
   "outputs": [],
   "source": [
    "da['GarageCond'] = da['GarageCond'].replace(['Ex','Gd','TA','Fa', 'Po','NO'],[1,2,3,4,5,6])"
   ]
  },
  {
   "cell_type": "code",
   "execution_count": 158,
   "id": "e4864fae",
   "metadata": {},
   "outputs": [
    {
     "data": {
      "text/plain": [
       "[Interval(34591.311, 215233.25, closed='right'),\n",
       " Interval(215233.25, 395155.5, closed='right'),\n",
       " Interval(395155.5, 575077.75, closed='right'),\n",
       " Interval(575077.75, 755000.0, closed='right')]"
      ]
     },
     "execution_count": 158,
     "metadata": {},
     "output_type": "execute_result"
    }
   ],
   "source": [
    "list(pd.cut(da.SalePrice,bins=4).unique())"
   ]
  },
  {
   "cell_type": "code",
   "execution_count": 159,
   "id": "88752b81",
   "metadata": {},
   "outputs": [],
   "source": [
    "da['SalePrice']=pd.cut(da.SalePrice,bins=4,labels=[0,1,2,3])"
   ]
  },
  {
   "cell_type": "code",
   "execution_count": 160,
   "id": "6ad9f313",
   "metadata": {},
   "outputs": [
    {
     "data": {
      "text/html": [
       "<div>\n",
       "<style scoped>\n",
       "    .dataframe tbody tr th:only-of-type {\n",
       "        vertical-align: middle;\n",
       "    }\n",
       "\n",
       "    .dataframe tbody tr th {\n",
       "        vertical-align: top;\n",
       "    }\n",
       "\n",
       "    .dataframe thead th {\n",
       "        text-align: right;\n",
       "    }\n",
       "</style>\n",
       "<table border=\"1\" class=\"dataframe\">\n",
       "  <thead>\n",
       "    <tr style=\"text-align: right;\">\n",
       "      <th></th>\n",
       "      <th>Id</th>\n",
       "      <th>MSSubClass</th>\n",
       "      <th>MSZoning</th>\n",
       "      <th>LotFrontage</th>\n",
       "      <th>LotArea</th>\n",
       "      <th>Street</th>\n",
       "      <th>LotShape</th>\n",
       "      <th>LandContour</th>\n",
       "      <th>Utilities</th>\n",
       "      <th>LotConfig</th>\n",
       "      <th>...</th>\n",
       "      <th>EnclosedPorch</th>\n",
       "      <th>3SsnPorch</th>\n",
       "      <th>ScreenPorch</th>\n",
       "      <th>PoolArea</th>\n",
       "      <th>MiscVal</th>\n",
       "      <th>MoSold</th>\n",
       "      <th>YrSold</th>\n",
       "      <th>SaleType</th>\n",
       "      <th>SaleCondition</th>\n",
       "      <th>SalePrice</th>\n",
       "    </tr>\n",
       "  </thead>\n",
       "  <tbody>\n",
       "    <tr>\n",
       "      <th>0</th>\n",
       "      <td>1</td>\n",
       "      <td>60</td>\n",
       "      <td>RL</td>\n",
       "      <td>65.0</td>\n",
       "      <td>8450</td>\n",
       "      <td>Pave</td>\n",
       "      <td>Reg</td>\n",
       "      <td>Lvl</td>\n",
       "      <td>AllPub</td>\n",
       "      <td>Inside</td>\n",
       "      <td>...</td>\n",
       "      <td>0</td>\n",
       "      <td>0</td>\n",
       "      <td>0</td>\n",
       "      <td>0</td>\n",
       "      <td>0</td>\n",
       "      <td>2</td>\n",
       "      <td>2008</td>\n",
       "      <td>WD</td>\n",
       "      <td>Normal</td>\n",
       "      <td>0</td>\n",
       "    </tr>\n",
       "    <tr>\n",
       "      <th>1</th>\n",
       "      <td>2</td>\n",
       "      <td>20</td>\n",
       "      <td>RL</td>\n",
       "      <td>80.0</td>\n",
       "      <td>9600</td>\n",
       "      <td>Pave</td>\n",
       "      <td>Reg</td>\n",
       "      <td>Lvl</td>\n",
       "      <td>AllPub</td>\n",
       "      <td>FR2</td>\n",
       "      <td>...</td>\n",
       "      <td>0</td>\n",
       "      <td>0</td>\n",
       "      <td>0</td>\n",
       "      <td>0</td>\n",
       "      <td>0</td>\n",
       "      <td>5</td>\n",
       "      <td>2007</td>\n",
       "      <td>WD</td>\n",
       "      <td>Normal</td>\n",
       "      <td>0</td>\n",
       "    </tr>\n",
       "    <tr>\n",
       "      <th>2</th>\n",
       "      <td>3</td>\n",
       "      <td>60</td>\n",
       "      <td>RL</td>\n",
       "      <td>68.0</td>\n",
       "      <td>11250</td>\n",
       "      <td>Pave</td>\n",
       "      <td>IR1</td>\n",
       "      <td>Lvl</td>\n",
       "      <td>AllPub</td>\n",
       "      <td>Inside</td>\n",
       "      <td>...</td>\n",
       "      <td>0</td>\n",
       "      <td>0</td>\n",
       "      <td>0</td>\n",
       "      <td>0</td>\n",
       "      <td>0</td>\n",
       "      <td>9</td>\n",
       "      <td>2008</td>\n",
       "      <td>WD</td>\n",
       "      <td>Normal</td>\n",
       "      <td>1</td>\n",
       "    </tr>\n",
       "    <tr>\n",
       "      <th>3</th>\n",
       "      <td>4</td>\n",
       "      <td>70</td>\n",
       "      <td>RL</td>\n",
       "      <td>60.0</td>\n",
       "      <td>9550</td>\n",
       "      <td>Pave</td>\n",
       "      <td>IR1</td>\n",
       "      <td>Lvl</td>\n",
       "      <td>AllPub</td>\n",
       "      <td>Corner</td>\n",
       "      <td>...</td>\n",
       "      <td>272</td>\n",
       "      <td>0</td>\n",
       "      <td>0</td>\n",
       "      <td>0</td>\n",
       "      <td>0</td>\n",
       "      <td>2</td>\n",
       "      <td>2006</td>\n",
       "      <td>WD</td>\n",
       "      <td>Abnorml</td>\n",
       "      <td>0</td>\n",
       "    </tr>\n",
       "    <tr>\n",
       "      <th>4</th>\n",
       "      <td>5</td>\n",
       "      <td>60</td>\n",
       "      <td>RL</td>\n",
       "      <td>84.0</td>\n",
       "      <td>14260</td>\n",
       "      <td>Pave</td>\n",
       "      <td>IR1</td>\n",
       "      <td>Lvl</td>\n",
       "      <td>AllPub</td>\n",
       "      <td>FR2</td>\n",
       "      <td>...</td>\n",
       "      <td>0</td>\n",
       "      <td>0</td>\n",
       "      <td>0</td>\n",
       "      <td>0</td>\n",
       "      <td>0</td>\n",
       "      <td>12</td>\n",
       "      <td>2008</td>\n",
       "      <td>WD</td>\n",
       "      <td>Normal</td>\n",
       "      <td>1</td>\n",
       "    </tr>\n",
       "  </tbody>\n",
       "</table>\n",
       "<p>5 rows × 76 columns</p>\n",
       "</div>"
      ],
      "text/plain": [
       "  Id MSSubClass MSZoning  LotFrontage  LotArea Street LotShape LandContour  \\\n",
       "0  1         60       RL         65.0     8450   Pave      Reg         Lvl   \n",
       "1  2         20       RL         80.0     9600   Pave      Reg         Lvl   \n",
       "2  3         60       RL         68.0    11250   Pave      IR1         Lvl   \n",
       "3  4         70       RL         60.0     9550   Pave      IR1         Lvl   \n",
       "4  5         60       RL         84.0    14260   Pave      IR1         Lvl   \n",
       "\n",
       "  Utilities LotConfig  ... EnclosedPorch 3SsnPorch ScreenPorch PoolArea  \\\n",
       "0    AllPub    Inside  ...             0         0           0        0   \n",
       "1    AllPub       FR2  ...             0         0           0        0   \n",
       "2    AllPub    Inside  ...             0         0           0        0   \n",
       "3    AllPub    Corner  ...           272         0           0        0   \n",
       "4    AllPub       FR2  ...             0         0           0        0   \n",
       "\n",
       "  MiscVal MoSold YrSold SaleType  SaleCondition  SalePrice  \n",
       "0       0      2   2008       WD         Normal          0  \n",
       "1       0      5   2007       WD         Normal          0  \n",
       "2       0      9   2008       WD         Normal          1  \n",
       "3       0      2   2006       WD        Abnorml          0  \n",
       "4       0     12   2008       WD         Normal          1  \n",
       "\n",
       "[5 rows x 76 columns]"
      ]
     },
     "execution_count": 160,
     "metadata": {},
     "output_type": "execute_result"
    }
   ],
   "source": [
    "da.head()"
   ]
  },
  {
   "cell_type": "code",
   "execution_count": 161,
   "id": "efc11024",
   "metadata": {},
   "outputs": [],
   "source": [
    "ordinal_list=['ExterQual','ExterCond','BsmtQual','BsmtCond','HeatingQC','KitchenQual' , 'GarageQual','GarageCond','SalePrice' ]"
   ]
  },
  {
   "cell_type": "code",
   "execution_count": null,
   "id": "166ed05d",
   "metadata": {},
   "outputs": [],
   "source": []
  },
  {
   "cell_type": "code",
   "execution_count": 162,
   "id": "bafb7e59",
   "metadata": {},
   "outputs": [
    {
     "data": {
      "text/html": [
       "<div>\n",
       "<style scoped>\n",
       "    .dataframe tbody tr th:only-of-type {\n",
       "        vertical-align: middle;\n",
       "    }\n",
       "\n",
       "    .dataframe tbody tr th {\n",
       "        vertical-align: top;\n",
       "    }\n",
       "\n",
       "    .dataframe thead th {\n",
       "        text-align: right;\n",
       "    }\n",
       "</style>\n",
       "<table border=\"1\" class=\"dataframe\">\n",
       "  <thead>\n",
       "    <tr style=\"text-align: right;\">\n",
       "      <th></th>\n",
       "      <th>Id</th>\n",
       "      <th>MSSubClass</th>\n",
       "      <th>MSZoning</th>\n",
       "      <th>LotFrontage</th>\n",
       "      <th>LotArea</th>\n",
       "      <th>Street</th>\n",
       "      <th>LotShape</th>\n",
       "      <th>LandContour</th>\n",
       "      <th>Utilities</th>\n",
       "      <th>LotConfig</th>\n",
       "      <th>...</th>\n",
       "      <th>EnclosedPorch</th>\n",
       "      <th>3SsnPorch</th>\n",
       "      <th>ScreenPorch</th>\n",
       "      <th>PoolArea</th>\n",
       "      <th>MiscVal</th>\n",
       "      <th>MoSold</th>\n",
       "      <th>YrSold</th>\n",
       "      <th>SaleType</th>\n",
       "      <th>SaleCondition</th>\n",
       "      <th>SalePrice</th>\n",
       "    </tr>\n",
       "  </thead>\n",
       "  <tbody>\n",
       "    <tr>\n",
       "      <th>0</th>\n",
       "      <td>1</td>\n",
       "      <td>60</td>\n",
       "      <td>RL</td>\n",
       "      <td>65.0</td>\n",
       "      <td>8450</td>\n",
       "      <td>Pave</td>\n",
       "      <td>Reg</td>\n",
       "      <td>Lvl</td>\n",
       "      <td>AllPub</td>\n",
       "      <td>Inside</td>\n",
       "      <td>...</td>\n",
       "      <td>0</td>\n",
       "      <td>0</td>\n",
       "      <td>0</td>\n",
       "      <td>0</td>\n",
       "      <td>0</td>\n",
       "      <td>2</td>\n",
       "      <td>2008</td>\n",
       "      <td>WD</td>\n",
       "      <td>Normal</td>\n",
       "      <td>0</td>\n",
       "    </tr>\n",
       "    <tr>\n",
       "      <th>1</th>\n",
       "      <td>2</td>\n",
       "      <td>20</td>\n",
       "      <td>RL</td>\n",
       "      <td>80.0</td>\n",
       "      <td>9600</td>\n",
       "      <td>Pave</td>\n",
       "      <td>Reg</td>\n",
       "      <td>Lvl</td>\n",
       "      <td>AllPub</td>\n",
       "      <td>FR2</td>\n",
       "      <td>...</td>\n",
       "      <td>0</td>\n",
       "      <td>0</td>\n",
       "      <td>0</td>\n",
       "      <td>0</td>\n",
       "      <td>0</td>\n",
       "      <td>5</td>\n",
       "      <td>2007</td>\n",
       "      <td>WD</td>\n",
       "      <td>Normal</td>\n",
       "      <td>0</td>\n",
       "    </tr>\n",
       "    <tr>\n",
       "      <th>2</th>\n",
       "      <td>3</td>\n",
       "      <td>60</td>\n",
       "      <td>RL</td>\n",
       "      <td>68.0</td>\n",
       "      <td>11250</td>\n",
       "      <td>Pave</td>\n",
       "      <td>IR1</td>\n",
       "      <td>Lvl</td>\n",
       "      <td>AllPub</td>\n",
       "      <td>Inside</td>\n",
       "      <td>...</td>\n",
       "      <td>0</td>\n",
       "      <td>0</td>\n",
       "      <td>0</td>\n",
       "      <td>0</td>\n",
       "      <td>0</td>\n",
       "      <td>9</td>\n",
       "      <td>2008</td>\n",
       "      <td>WD</td>\n",
       "      <td>Normal</td>\n",
       "      <td>1</td>\n",
       "    </tr>\n",
       "    <tr>\n",
       "      <th>3</th>\n",
       "      <td>4</td>\n",
       "      <td>70</td>\n",
       "      <td>RL</td>\n",
       "      <td>60.0</td>\n",
       "      <td>9550</td>\n",
       "      <td>Pave</td>\n",
       "      <td>IR1</td>\n",
       "      <td>Lvl</td>\n",
       "      <td>AllPub</td>\n",
       "      <td>Corner</td>\n",
       "      <td>...</td>\n",
       "      <td>272</td>\n",
       "      <td>0</td>\n",
       "      <td>0</td>\n",
       "      <td>0</td>\n",
       "      <td>0</td>\n",
       "      <td>2</td>\n",
       "      <td>2006</td>\n",
       "      <td>WD</td>\n",
       "      <td>Abnorml</td>\n",
       "      <td>0</td>\n",
       "    </tr>\n",
       "    <tr>\n",
       "      <th>4</th>\n",
       "      <td>5</td>\n",
       "      <td>60</td>\n",
       "      <td>RL</td>\n",
       "      <td>84.0</td>\n",
       "      <td>14260</td>\n",
       "      <td>Pave</td>\n",
       "      <td>IR1</td>\n",
       "      <td>Lvl</td>\n",
       "      <td>AllPub</td>\n",
       "      <td>FR2</td>\n",
       "      <td>...</td>\n",
       "      <td>0</td>\n",
       "      <td>0</td>\n",
       "      <td>0</td>\n",
       "      <td>0</td>\n",
       "      <td>0</td>\n",
       "      <td>12</td>\n",
       "      <td>2008</td>\n",
       "      <td>WD</td>\n",
       "      <td>Normal</td>\n",
       "      <td>1</td>\n",
       "    </tr>\n",
       "    <tr>\n",
       "      <th>5</th>\n",
       "      <td>6</td>\n",
       "      <td>50</td>\n",
       "      <td>RL</td>\n",
       "      <td>85.0</td>\n",
       "      <td>14115</td>\n",
       "      <td>Pave</td>\n",
       "      <td>IR1</td>\n",
       "      <td>Lvl</td>\n",
       "      <td>AllPub</td>\n",
       "      <td>Inside</td>\n",
       "      <td>...</td>\n",
       "      <td>0</td>\n",
       "      <td>320</td>\n",
       "      <td>0</td>\n",
       "      <td>0</td>\n",
       "      <td>700</td>\n",
       "      <td>10</td>\n",
       "      <td>2009</td>\n",
       "      <td>WD</td>\n",
       "      <td>Normal</td>\n",
       "      <td>0</td>\n",
       "    </tr>\n",
       "    <tr>\n",
       "      <th>6</th>\n",
       "      <td>7</td>\n",
       "      <td>20</td>\n",
       "      <td>RL</td>\n",
       "      <td>75.0</td>\n",
       "      <td>10084</td>\n",
       "      <td>Pave</td>\n",
       "      <td>Reg</td>\n",
       "      <td>Lvl</td>\n",
       "      <td>AllPub</td>\n",
       "      <td>Inside</td>\n",
       "      <td>...</td>\n",
       "      <td>0</td>\n",
       "      <td>0</td>\n",
       "      <td>0</td>\n",
       "      <td>0</td>\n",
       "      <td>0</td>\n",
       "      <td>8</td>\n",
       "      <td>2007</td>\n",
       "      <td>WD</td>\n",
       "      <td>Normal</td>\n",
       "      <td>1</td>\n",
       "    </tr>\n",
       "    <tr>\n",
       "      <th>7</th>\n",
       "      <td>9</td>\n",
       "      <td>50</td>\n",
       "      <td>RM</td>\n",
       "      <td>51.0</td>\n",
       "      <td>6120</td>\n",
       "      <td>Pave</td>\n",
       "      <td>Reg</td>\n",
       "      <td>Lvl</td>\n",
       "      <td>AllPub</td>\n",
       "      <td>Inside</td>\n",
       "      <td>...</td>\n",
       "      <td>205</td>\n",
       "      <td>0</td>\n",
       "      <td>0</td>\n",
       "      <td>0</td>\n",
       "      <td>0</td>\n",
       "      <td>4</td>\n",
       "      <td>2008</td>\n",
       "      <td>WD</td>\n",
       "      <td>Abnorml</td>\n",
       "      <td>0</td>\n",
       "    </tr>\n",
       "    <tr>\n",
       "      <th>8</th>\n",
       "      <td>10</td>\n",
       "      <td>190</td>\n",
       "      <td>RL</td>\n",
       "      <td>50.0</td>\n",
       "      <td>7420</td>\n",
       "      <td>Pave</td>\n",
       "      <td>Reg</td>\n",
       "      <td>Lvl</td>\n",
       "      <td>AllPub</td>\n",
       "      <td>Corner</td>\n",
       "      <td>...</td>\n",
       "      <td>0</td>\n",
       "      <td>0</td>\n",
       "      <td>0</td>\n",
       "      <td>0</td>\n",
       "      <td>0</td>\n",
       "      <td>1</td>\n",
       "      <td>2008</td>\n",
       "      <td>WD</td>\n",
       "      <td>Normal</td>\n",
       "      <td>0</td>\n",
       "    </tr>\n",
       "    <tr>\n",
       "      <th>9</th>\n",
       "      <td>11</td>\n",
       "      <td>20</td>\n",
       "      <td>RL</td>\n",
       "      <td>70.0</td>\n",
       "      <td>11200</td>\n",
       "      <td>Pave</td>\n",
       "      <td>Reg</td>\n",
       "      <td>Lvl</td>\n",
       "      <td>AllPub</td>\n",
       "      <td>Inside</td>\n",
       "      <td>...</td>\n",
       "      <td>0</td>\n",
       "      <td>0</td>\n",
       "      <td>0</td>\n",
       "      <td>0</td>\n",
       "      <td>0</td>\n",
       "      <td>2</td>\n",
       "      <td>2008</td>\n",
       "      <td>WD</td>\n",
       "      <td>Normal</td>\n",
       "      <td>0</td>\n",
       "    </tr>\n",
       "  </tbody>\n",
       "</table>\n",
       "<p>10 rows × 76 columns</p>\n",
       "</div>"
      ],
      "text/plain": [
       "   Id MSSubClass MSZoning  LotFrontage  LotArea Street LotShape LandContour  \\\n",
       "0   1         60       RL         65.0     8450   Pave      Reg         Lvl   \n",
       "1   2         20       RL         80.0     9600   Pave      Reg         Lvl   \n",
       "2   3         60       RL         68.0    11250   Pave      IR1         Lvl   \n",
       "3   4         70       RL         60.0     9550   Pave      IR1         Lvl   \n",
       "4   5         60       RL         84.0    14260   Pave      IR1         Lvl   \n",
       "5   6         50       RL         85.0    14115   Pave      IR1         Lvl   \n",
       "6   7         20       RL         75.0    10084   Pave      Reg         Lvl   \n",
       "7   9         50       RM         51.0     6120   Pave      Reg         Lvl   \n",
       "8  10        190       RL         50.0     7420   Pave      Reg         Lvl   \n",
       "9  11         20       RL         70.0    11200   Pave      Reg         Lvl   \n",
       "\n",
       "  Utilities LotConfig  ... EnclosedPorch 3SsnPorch ScreenPorch PoolArea  \\\n",
       "0    AllPub    Inside  ...             0         0           0        0   \n",
       "1    AllPub       FR2  ...             0         0           0        0   \n",
       "2    AllPub    Inside  ...             0         0           0        0   \n",
       "3    AllPub    Corner  ...           272         0           0        0   \n",
       "4    AllPub       FR2  ...             0         0           0        0   \n",
       "5    AllPub    Inside  ...             0       320           0        0   \n",
       "6    AllPub    Inside  ...             0         0           0        0   \n",
       "7    AllPub    Inside  ...           205         0           0        0   \n",
       "8    AllPub    Corner  ...             0         0           0        0   \n",
       "9    AllPub    Inside  ...             0         0           0        0   \n",
       "\n",
       "  MiscVal MoSold YrSold SaleType  SaleCondition  SalePrice  \n",
       "0       0      2   2008       WD         Normal          0  \n",
       "1       0      5   2007       WD         Normal          0  \n",
       "2       0      9   2008       WD         Normal          1  \n",
       "3       0      2   2006       WD        Abnorml          0  \n",
       "4       0     12   2008       WD         Normal          1  \n",
       "5     700     10   2009       WD         Normal          0  \n",
       "6       0      8   2007       WD         Normal          1  \n",
       "7       0      4   2008       WD        Abnorml          0  \n",
       "8       0      1   2008       WD         Normal          0  \n",
       "9       0      2   2008       WD         Normal          0  \n",
       "\n",
       "[10 rows x 76 columns]"
      ]
     },
     "execution_count": 162,
     "metadata": {},
     "output_type": "execute_result"
    }
   ],
   "source": [
    "da.head(10)"
   ]
  },
  {
   "cell_type": "code",
   "execution_count": 163,
   "id": "52cdb8e6",
   "metadata": {},
   "outputs": [
    {
     "name": "stdout",
     "output_type": "stream",
     "text": [
      "['Id', 'MSSubClass', 'MSZoning', 'Street', 'LotShape', 'LandContour', 'Utilities', 'LotConfig', 'LandSlope', 'Neighborhood', 'Condition1', 'Condition2', 'BldgType', 'HouseStyle', 'OverallQual', 'OverallCond', 'RoofStyle', 'RoofMatl', 'Exterior1st', 'Exterior2nd', 'MasVnrType', 'Foundation', 'BsmtExposure', 'BsmtFinType1', 'BsmtFinType2', 'Heating', 'CentralAir', 'Electrical', 'Functional', 'GarageType', 'GarageFinish', 'PavedDrive', 'SaleType', 'SaleCondition']\n",
      "Number of nominal features: 34\n"
     ]
    }
   ],
   "source": [
    "nominal_list = []\n",
    "for i in da.columns.tolist():\n",
    "     if (da[i].dtype=='object') and (i not in ordinal_list):\n",
    "        nominal_list.append(i)\n",
    "print (nominal_list) \n",
    "print('Number of nominal features:', str(len(nominal_list)))"
   ]
  },
  {
   "cell_type": "code",
   "execution_count": 164,
   "id": "f8fec927",
   "metadata": {},
   "outputs": [],
   "source": [
    "from sklearn.preprocessing import LabelEncoder\n",
    "encoder=LabelEncoder()\n",
    "for column in nominal_list:\n",
    "    da[column]=encoder.fit_transform(da[column])"
   ]
  },
  {
   "cell_type": "code",
   "execution_count": 165,
   "id": "b5a435b7",
   "metadata": {},
   "outputs": [],
   "source": [
    "ordinal_data=da[ordinal_list]\n",
    "nominal_data=da[nominal_list]\n",
    "categorical_data = pd.concat([ordinal_data,nominal_data], axis=1)"
   ]
  },
  {
   "cell_type": "code",
   "execution_count": 166,
   "id": "ab4f7907",
   "metadata": {},
   "outputs": [
    {
     "data": {
      "text/html": [
       "<div>\n",
       "<style scoped>\n",
       "    .dataframe tbody tr th:only-of-type {\n",
       "        vertical-align: middle;\n",
       "    }\n",
       "\n",
       "    .dataframe tbody tr th {\n",
       "        vertical-align: top;\n",
       "    }\n",
       "\n",
       "    .dataframe thead th {\n",
       "        text-align: right;\n",
       "    }\n",
       "</style>\n",
       "<table border=\"1\" class=\"dataframe\">\n",
       "  <thead>\n",
       "    <tr style=\"text-align: right;\">\n",
       "      <th></th>\n",
       "      <th>ExterQual</th>\n",
       "      <th>ExterCond</th>\n",
       "      <th>BsmtQual</th>\n",
       "      <th>BsmtCond</th>\n",
       "      <th>HeatingQC</th>\n",
       "      <th>KitchenQual</th>\n",
       "      <th>GarageQual</th>\n",
       "      <th>GarageCond</th>\n",
       "      <th>SalePrice</th>\n",
       "      <th>Id</th>\n",
       "      <th>...</th>\n",
       "      <th>BsmtFinType2</th>\n",
       "      <th>Heating</th>\n",
       "      <th>CentralAir</th>\n",
       "      <th>Electrical</th>\n",
       "      <th>Functional</th>\n",
       "      <th>GarageType</th>\n",
       "      <th>GarageFinish</th>\n",
       "      <th>PavedDrive</th>\n",
       "      <th>SaleType</th>\n",
       "      <th>SaleCondition</th>\n",
       "    </tr>\n",
       "  </thead>\n",
       "  <tbody>\n",
       "    <tr>\n",
       "      <th>0</th>\n",
       "      <td>2</td>\n",
       "      <td>3</td>\n",
       "      <td>2</td>\n",
       "      <td>3</td>\n",
       "      <td>1</td>\n",
       "      <td>2</td>\n",
       "      <td>3</td>\n",
       "      <td>3</td>\n",
       "      <td>0</td>\n",
       "      <td>0</td>\n",
       "      <td>...</td>\n",
       "      <td>5</td>\n",
       "      <td>0</td>\n",
       "      <td>1</td>\n",
       "      <td>4</td>\n",
       "      <td>5</td>\n",
       "      <td>1</td>\n",
       "      <td>1</td>\n",
       "      <td>2</td>\n",
       "      <td>8</td>\n",
       "      <td>4</td>\n",
       "    </tr>\n",
       "    <tr>\n",
       "      <th>1</th>\n",
       "      <td>3</td>\n",
       "      <td>3</td>\n",
       "      <td>2</td>\n",
       "      <td>3</td>\n",
       "      <td>1</td>\n",
       "      <td>3</td>\n",
       "      <td>3</td>\n",
       "      <td>3</td>\n",
       "      <td>0</td>\n",
       "      <td>1</td>\n",
       "      <td>...</td>\n",
       "      <td>5</td>\n",
       "      <td>0</td>\n",
       "      <td>1</td>\n",
       "      <td>4</td>\n",
       "      <td>5</td>\n",
       "      <td>1</td>\n",
       "      <td>1</td>\n",
       "      <td>2</td>\n",
       "      <td>8</td>\n",
       "      <td>4</td>\n",
       "    </tr>\n",
       "    <tr>\n",
       "      <th>2</th>\n",
       "      <td>2</td>\n",
       "      <td>3</td>\n",
       "      <td>2</td>\n",
       "      <td>3</td>\n",
       "      <td>1</td>\n",
       "      <td>2</td>\n",
       "      <td>3</td>\n",
       "      <td>3</td>\n",
       "      <td>1</td>\n",
       "      <td>2</td>\n",
       "      <td>...</td>\n",
       "      <td>5</td>\n",
       "      <td>0</td>\n",
       "      <td>1</td>\n",
       "      <td>4</td>\n",
       "      <td>5</td>\n",
       "      <td>1</td>\n",
       "      <td>1</td>\n",
       "      <td>2</td>\n",
       "      <td>8</td>\n",
       "      <td>4</td>\n",
       "    </tr>\n",
       "    <tr>\n",
       "      <th>3</th>\n",
       "      <td>3</td>\n",
       "      <td>3</td>\n",
       "      <td>3</td>\n",
       "      <td>2</td>\n",
       "      <td>2</td>\n",
       "      <td>2</td>\n",
       "      <td>3</td>\n",
       "      <td>3</td>\n",
       "      <td>0</td>\n",
       "      <td>3</td>\n",
       "      <td>...</td>\n",
       "      <td>5</td>\n",
       "      <td>0</td>\n",
       "      <td>1</td>\n",
       "      <td>4</td>\n",
       "      <td>5</td>\n",
       "      <td>5</td>\n",
       "      <td>2</td>\n",
       "      <td>2</td>\n",
       "      <td>8</td>\n",
       "      <td>0</td>\n",
       "    </tr>\n",
       "    <tr>\n",
       "      <th>4</th>\n",
       "      <td>2</td>\n",
       "      <td>3</td>\n",
       "      <td>2</td>\n",
       "      <td>3</td>\n",
       "      <td>1</td>\n",
       "      <td>2</td>\n",
       "      <td>3</td>\n",
       "      <td>3</td>\n",
       "      <td>1</td>\n",
       "      <td>4</td>\n",
       "      <td>...</td>\n",
       "      <td>5</td>\n",
       "      <td>0</td>\n",
       "      <td>1</td>\n",
       "      <td>4</td>\n",
       "      <td>5</td>\n",
       "      <td>1</td>\n",
       "      <td>1</td>\n",
       "      <td>2</td>\n",
       "      <td>8</td>\n",
       "      <td>4</td>\n",
       "    </tr>\n",
       "    <tr>\n",
       "      <th>...</th>\n",
       "      <td>...</td>\n",
       "      <td>...</td>\n",
       "      <td>...</td>\n",
       "      <td>...</td>\n",
       "      <td>...</td>\n",
       "      <td>...</td>\n",
       "      <td>...</td>\n",
       "      <td>...</td>\n",
       "      <td>...</td>\n",
       "      <td>...</td>\n",
       "      <td>...</td>\n",
       "      <td>...</td>\n",
       "      <td>...</td>\n",
       "      <td>...</td>\n",
       "      <td>...</td>\n",
       "      <td>...</td>\n",
       "      <td>...</td>\n",
       "      <td>...</td>\n",
       "      <td>...</td>\n",
       "      <td>...</td>\n",
       "      <td>...</td>\n",
       "    </tr>\n",
       "    <tr>\n",
       "      <th>1089</th>\n",
       "      <td>3</td>\n",
       "      <td>3</td>\n",
       "      <td>2</td>\n",
       "      <td>3</td>\n",
       "      <td>1</td>\n",
       "      <td>3</td>\n",
       "      <td>3</td>\n",
       "      <td>3</td>\n",
       "      <td>0</td>\n",
       "      <td>1089</td>\n",
       "      <td>...</td>\n",
       "      <td>5</td>\n",
       "      <td>0</td>\n",
       "      <td>1</td>\n",
       "      <td>4</td>\n",
       "      <td>5</td>\n",
       "      <td>1</td>\n",
       "      <td>1</td>\n",
       "      <td>2</td>\n",
       "      <td>8</td>\n",
       "      <td>4</td>\n",
       "    </tr>\n",
       "    <tr>\n",
       "      <th>1090</th>\n",
       "      <td>3</td>\n",
       "      <td>3</td>\n",
       "      <td>2</td>\n",
       "      <td>3</td>\n",
       "      <td>3</td>\n",
       "      <td>3</td>\n",
       "      <td>3</td>\n",
       "      <td>3</td>\n",
       "      <td>0</td>\n",
       "      <td>1090</td>\n",
       "      <td>...</td>\n",
       "      <td>4</td>\n",
       "      <td>0</td>\n",
       "      <td>1</td>\n",
       "      <td>4</td>\n",
       "      <td>2</td>\n",
       "      <td>1</td>\n",
       "      <td>2</td>\n",
       "      <td>2</td>\n",
       "      <td>8</td>\n",
       "      <td>4</td>\n",
       "    </tr>\n",
       "    <tr>\n",
       "      <th>1091</th>\n",
       "      <td>1</td>\n",
       "      <td>2</td>\n",
       "      <td>3</td>\n",
       "      <td>2</td>\n",
       "      <td>1</td>\n",
       "      <td>2</td>\n",
       "      <td>3</td>\n",
       "      <td>3</td>\n",
       "      <td>1</td>\n",
       "      <td>1091</td>\n",
       "      <td>...</td>\n",
       "      <td>5</td>\n",
       "      <td>0</td>\n",
       "      <td>1</td>\n",
       "      <td>4</td>\n",
       "      <td>5</td>\n",
       "      <td>1</td>\n",
       "      <td>1</td>\n",
       "      <td>2</td>\n",
       "      <td>8</td>\n",
       "      <td>4</td>\n",
       "    </tr>\n",
       "    <tr>\n",
       "      <th>1092</th>\n",
       "      <td>3</td>\n",
       "      <td>3</td>\n",
       "      <td>3</td>\n",
       "      <td>3</td>\n",
       "      <td>2</td>\n",
       "      <td>2</td>\n",
       "      <td>3</td>\n",
       "      <td>3</td>\n",
       "      <td>0</td>\n",
       "      <td>1092</td>\n",
       "      <td>...</td>\n",
       "      <td>4</td>\n",
       "      <td>0</td>\n",
       "      <td>1</td>\n",
       "      <td>0</td>\n",
       "      <td>5</td>\n",
       "      <td>1</td>\n",
       "      <td>2</td>\n",
       "      <td>2</td>\n",
       "      <td>8</td>\n",
       "      <td>4</td>\n",
       "    </tr>\n",
       "    <tr>\n",
       "      <th>1093</th>\n",
       "      <td>2</td>\n",
       "      <td>3</td>\n",
       "      <td>3</td>\n",
       "      <td>3</td>\n",
       "      <td>2</td>\n",
       "      <td>3</td>\n",
       "      <td>3</td>\n",
       "      <td>3</td>\n",
       "      <td>0</td>\n",
       "      <td>1093</td>\n",
       "      <td>...</td>\n",
       "      <td>3</td>\n",
       "      <td>0</td>\n",
       "      <td>1</td>\n",
       "      <td>4</td>\n",
       "      <td>5</td>\n",
       "      <td>1</td>\n",
       "      <td>0</td>\n",
       "      <td>2</td>\n",
       "      <td>8</td>\n",
       "      <td>4</td>\n",
       "    </tr>\n",
       "  </tbody>\n",
       "</table>\n",
       "<p>1094 rows × 43 columns</p>\n",
       "</div>"
      ],
      "text/plain": [
       "      ExterQual  ExterCond  BsmtQual  BsmtCond  HeatingQC  KitchenQual  \\\n",
       "0             2          3         2         3          1            2   \n",
       "1             3          3         2         3          1            3   \n",
       "2             2          3         2         3          1            2   \n",
       "3             3          3         3         2          2            2   \n",
       "4             2          3         2         3          1            2   \n",
       "...         ...        ...       ...       ...        ...          ...   \n",
       "1089          3          3         2         3          1            3   \n",
       "1090          3          3         2         3          3            3   \n",
       "1091          1          2         3         2          1            2   \n",
       "1092          3          3         3         3          2            2   \n",
       "1093          2          3         3         3          2            3   \n",
       "\n",
       "      GarageQual  GarageCond SalePrice    Id  ...  BsmtFinType2  Heating  \\\n",
       "0              3           3         0     0  ...             5        0   \n",
       "1              3           3         0     1  ...             5        0   \n",
       "2              3           3         1     2  ...             5        0   \n",
       "3              3           3         0     3  ...             5        0   \n",
       "4              3           3         1     4  ...             5        0   \n",
       "...          ...         ...       ...   ...  ...           ...      ...   \n",
       "1089           3           3         0  1089  ...             5        0   \n",
       "1090           3           3         0  1090  ...             4        0   \n",
       "1091           3           3         1  1091  ...             5        0   \n",
       "1092           3           3         0  1092  ...             4        0   \n",
       "1093           3           3         0  1093  ...             3        0   \n",
       "\n",
       "      CentralAir  Electrical  Functional  GarageType  GarageFinish  \\\n",
       "0              1           4           5           1             1   \n",
       "1              1           4           5           1             1   \n",
       "2              1           4           5           1             1   \n",
       "3              1           4           5           5             2   \n",
       "4              1           4           5           1             1   \n",
       "...          ...         ...         ...         ...           ...   \n",
       "1089           1           4           5           1             1   \n",
       "1090           1           4           2           1             2   \n",
       "1091           1           4           5           1             1   \n",
       "1092           1           0           5           1             2   \n",
       "1093           1           4           5           1             0   \n",
       "\n",
       "      PavedDrive  SaleType  SaleCondition  \n",
       "0              2         8              4  \n",
       "1              2         8              4  \n",
       "2              2         8              4  \n",
       "3              2         8              0  \n",
       "4              2         8              4  \n",
       "...          ...       ...            ...  \n",
       "1089           2         8              4  \n",
       "1090           2         8              4  \n",
       "1091           2         8              4  \n",
       "1092           2         8              4  \n",
       "1093           2         8              4  \n",
       "\n",
       "[1094 rows x 43 columns]"
      ]
     },
     "execution_count": 166,
     "metadata": {},
     "output_type": "execute_result"
    }
   ],
   "source": [
    "categorical_data"
   ]
  },
  {
   "cell_type": "code",
   "execution_count": null,
   "id": "5d3d452d",
   "metadata": {},
   "outputs": [],
   "source": []
  },
  {
   "cell_type": "code",
   "execution_count": 167,
   "id": "f8789593",
   "metadata": {},
   "outputs": [],
   "source": [
    "X=categorical_data.drop('SalePrice',axis=1)\n",
    "Y=categorical_data['SalePrice']\n",
    "chi_scores = chi2(X,Y)"
   ]
  },
  {
   "cell_type": "code",
   "execution_count": 168,
   "id": "e29dcb28",
   "metadata": {},
   "outputs": [],
   "source": [
    "p_values = pd.Series(chi_scores[1],index = X.columns)\n",
    "p_values.sort_values(ascending = True , inplace = True)\n",
    "chi2_values=pd.Series(chi_scores[0],index = X.columns)\n",
    "chi2_values.sort_values(ascending = False , inplace = True)"
   ]
  },
  {
   "cell_type": "code",
   "execution_count": 169,
   "id": "0b99fa57",
   "metadata": {},
   "outputs": [
    {
     "data": {
      "text/plain": [
       "<AxesSubplot:>"
      ]
     },
     "execution_count": 169,
     "metadata": {},
     "output_type": "execute_result"
    },
    {
     "data": {
      "image/png": "[encoded data removed]",
      "text/plain": [
       "<Figure size 432x288 with 1 Axes>"
      ]
     },
     "metadata": {
      "needs_background": "light"
     },
     "output_type": "display_data"
    }
   ],
   "source": [
    " p_values.plot.bar()"
   ]
  },
  {
   "cell_type": "code",
   "execution_count": 170,
   "id": "1727f20f",
   "metadata": {},
   "outputs": [
    {
     "data": {
      "text/plain": [
       "<AxesSubplot:>"
      ]
     },
     "execution_count": 170,
     "metadata": {},
     "output_type": "execute_result"
    },
    {
     "data": {
      "image/png": "[encoded data removed]",
      "text/plain": [
       "<Figure size 432x288 with 1 Axes>"
      ]
     },
     "metadata": {
      "needs_background": "light"
     },
     "output_type": "display_data"
    }
   ],
   "source": [
    " chi2_values.plot.bar()"
   ]
  },
  {
   "cell_type": "code",
   "execution_count": 183,
   "id": "210d3f98",
   "metadata": {},
   "outputs": [
    {
     "name": "stdout",
     "output_type": "stream",
     "text": [
      "Original feature number: (1094, 42)\n",
      "Reduced feature number: (1094, 3)\n"
     ]
    }
   ],
   "source": [
    "# Three features with highest chi-squared statistics are selected \n",
    "chi2_features = SelectKBest(chi2, k = 3) \n",
    "X_kbest_features = chi2_features.fit_transform(X, Y)\n",
    "print('Original feature number:', X.shape)  \n",
    "print('Reduced feature number:',X_kbest_features.shape)"
   ]
  },
  {
   "cell_type": "code",
   "execution_count": 190,
   "id": "c64416f0",
   "metadata": {},
   "outputs": [
    {
     "name": "stdout",
     "output_type": "stream",
     "text": [
      "[ 8 17 22]\n"
     ]
    },
    {
     "ename": "NameError",
     "evalue": "name 'col' is not defined",
     "output_type": "error",
     "traceback": [
      "\u001b[1;31m---------------------------------------------------------------------------\u001b[0m",
      "\u001b[1;31mNameError\u001b[0m                                 Traceback (most recent call last)",
      "\u001b[1;32m~\\AppData\\Local\\Temp/ipykernel_1528/1309466055.py\u001b[0m in \u001b[0;36m<module>\u001b[1;34m\u001b[0m\n\u001b[0;32m      1\u001b[0m \u001b[0mindex\u001b[0m \u001b[1;33m=\u001b[0m \u001b[0mchi2_features\u001b[0m\u001b[1;33m.\u001b[0m\u001b[0mget_support\u001b[0m\u001b[1;33m(\u001b[0m\u001b[0mindices\u001b[0m\u001b[1;33m=\u001b[0m\u001b[1;32mTrue\u001b[0m\u001b[1;33m)\u001b[0m\u001b[1;33m\u001b[0m\u001b[1;33m\u001b[0m\u001b[0m\n\u001b[0;32m      2\u001b[0m \u001b[0mprint\u001b[0m\u001b[1;33m(\u001b[0m\u001b[0mindex\u001b[0m\u001b[1;33m)\u001b[0m\u001b[1;33m\u001b[0m\u001b[1;33m\u001b[0m\u001b[0m\n\u001b[1;32m----> 3\u001b[1;33m \u001b[0mcol\u001b[0m\u001b[1;33m[\u001b[0m\u001b[0mindex\u001b[0m\u001b[1;33m]\u001b[0m\u001b[1;33m\u001b[0m\u001b[1;33m\u001b[0m\u001b[0m\n\u001b[0m",
      "\u001b[1;31mNameError\u001b[0m: name 'col' is not defined"
     ]
    }
   ],
   "source": [
    "index = chi2_features.get_support(indices=True)\n",
    "print(index)\n",
    "col[index]"
   ]
  },
  {
   "cell_type": "code",
   "execution_count": 189,
   "id": "357b5564",
   "metadata": {},
   "outputs": [
    {
     "data": {
      "text/plain": [
       "0       11\n",
       "1        7\n",
       "2       11\n",
       "3       12\n",
       "4       11\n",
       "        ..\n",
       "1089    11\n",
       "1090     8\n",
       "1091     4\n",
       "1092     7\n",
       "1093     5\n",
       "Name: Exterior1st, Length: 1094, dtype: int32"
      ]
     },
     "execution_count": 189,
     "metadata": {},
     "output_type": "execute_result"
    }
   ],
   "source": [
    "da.iloc[:,22]"
   ]
  },
  {
   "cell_type": "code",
   "execution_count": 187,
   "id": "71214463",
   "metadata": {},
   "outputs": [
    {
     "data": {
      "text/plain": [
       "Id               1383.546167\n",
       "OverallQual       228.155585\n",
       "Neighborhood      183.535737\n",
       "GarageType        128.489627\n",
       "GarageFinish      119.588304\n",
       "HeatingQC          75.534094\n",
       "KitchenQual        73.543305\n",
       "BsmtQual           72.311337\n",
       "LotShape           67.969345\n",
       "Foundation         58.417000\n",
       "ExterQual          56.205813\n",
       "BsmtExposure       43.428761\n",
       "MSSubClass         33.777661\n",
       "BldgType           28.288153\n",
       "RoofStyle          27.871205\n",
       "HouseStyle         18.384653\n",
       "Exterior2nd        13.933738\n",
       "SaleCondition      10.658784\n",
       "Exterior1st         9.170586\n",
       "Electrical          7.953093\n",
       "OverallCond         6.746437\n",
       "RoofMatl            6.171400\n",
       "LotConfig           5.536417\n",
       "LandSlope           4.151490\n",
       "MSZoning            3.964632\n",
       "SaleType            2.914470\n",
       "PavedDrive          1.832081\n",
       "Functional          1.515216\n",
       "BsmtFinType1        1.352403\n",
       "MasVnrType          1.301677\n",
       "Condition1          1.047573\n",
       "BsmtFinType2        1.007863\n",
       "CentralAir          0.862613\n",
       "Heating             0.640842\n",
       "BsmtCond            0.397777\n",
       "GarageQual          0.283481\n",
       "LandContour         0.127373\n",
       "GarageCond          0.122812\n",
       "ExterCond           0.120128\n",
       "Condition2          0.016150\n",
       "Street              0.005171\n",
       "Utilities                NaN\n",
       "dtype: float64"
      ]
     },
     "execution_count": 187,
     "metadata": {},
     "output_type": "execute_result"
    }
   ],
   "source": [
    "chi2_values"
   ]
  },
  {
   "cell_type": "code",
   "execution_count": 188,
   "id": "0201e0e8",
   "metadata": {},
   "outputs": [
    {
     "data": {
      "text/plain": [
       "Id               1.095261e-299\n",
       "OverallQual       3.464105e-49\n",
       "Neighborhood      1.520088e-39\n",
       "GarageType        1.144320e-27\n",
       "GarageFinish      9.464576e-26\n",
       "HeatingQC         2.783756e-16\n",
       "KitchenQual       7.434900e-16\n",
       "BsmtQual          1.365280e-15\n",
       "LotShape          1.161435e-14\n",
       "Foundation        1.280476e-12\n",
       "ExterQual         3.796853e-12\n",
       "BsmtExposure      1.995579e-09\n",
       "MSSubClass        2.207287e-07\n",
       "BldgType          3.159792e-06\n",
       "RoofStyle         3.865286e-06\n",
       "HouseStyle        3.663807e-04\n",
       "Exterior2nd       2.996748e-03\n",
       "SaleCondition     1.372157e-02\n",
       "Exterior1st       2.710676e-02\n",
       "Electrical        4.699115e-02\n",
       "OverallCond       8.043420e-02\n",
       "RoofMatl          1.035626e-01\n",
       "LotConfig         1.364766e-01\n",
       "LandSlope         2.455638e-01\n",
       "MSZoning          2.653087e-01\n",
       "SaleType          4.050011e-01\n",
       "PavedDrive        6.079788e-01\n",
       "Functional        6.787630e-01\n",
       "BsmtFinType1      7.167287e-01\n",
       "MasVnrType        7.287349e-01\n",
       "Condition1        7.897427e-01\n",
       "BsmtFinType2      7.993493e-01\n",
       "CentralAir        8.344395e-01\n",
       "Heating           8.870221e-01\n",
       "BsmtCond          9.407013e-01\n",
       "GarageQual        9.631047e-01\n",
       "LandContour       9.883615e-01\n",
       "GarageCond        9.889660e-01\n",
       "ExterCond         9.893171e-01\n",
       "Condition2        9.994568e-01\n",
       "Street            9.999013e-01\n",
       "Utilities                  NaN\n",
       "dtype: float64"
      ]
     },
     "execution_count": 188,
     "metadata": {},
     "output_type": "execute_result"
    }
   ],
   "source": [
    "p_values"
   ]
  },
  {
   "cell_type": "code",
   "execution_count": 74,
   "id": "21d1a95d",
   "metadata": {},
   "outputs": [],
   "source": [
    "df=da.copy()"
   ]
  },
  {
   "cell_type": "code",
   "execution_count": null,
   "id": "60aa0d65",
   "metadata": {},
   "outputs": [],
   "source": []
  },
  {
   "cell_type": "code",
   "execution_count": null,
   "id": "25eef96f",
   "metadata": {},
   "outputs": [],
   "source": []
  },
  {
   "cell_type": "code",
   "execution_count": 76,
   "id": "e3ef9e7c",
   "metadata": {},
   "outputs": [],
   "source": [
    "cor_matrix=da.corr()"
   ]
  },
  {
   "cell_type": "code",
   "execution_count": 81,
   "id": "1a147a27",
   "metadata": {},
   "outputs": [
    {
     "name": "stdout",
     "output_type": "stream",
     "text": [
      "SalePrice        1.000000\n",
      "OverallQual      0.790982\n",
      "GrLivArea        0.708624\n",
      "GarageCars       0.640409\n",
      "GarageArea       0.623431\n",
      "TotalBsmtSF      0.613581\n",
      "1stFlrSF         0.605852\n",
      "FullBath         0.560664\n",
      "TotRmsAbvGrd     0.533723\n",
      "YearBuilt        0.522897\n",
      "YearRemodAdd     0.507101\n",
      "GarageYrBlt      0.486362\n",
      "MasVnrArea       0.477493\n",
      "Fireplaces       0.466929\n",
      "BsmtFinSF1       0.386420\n",
      "Foundation       0.382479\n",
      "LotFrontage      0.351799\n",
      "WoodDeckSF       0.324413\n",
      "2ndFlrSF         0.319334\n",
      "OpenPorchSF      0.315856\n",
      "HalfBath         0.284108\n",
      "LotArea          0.263843\n",
      "CentralAir       0.251328\n",
      "Electrical       0.234716\n",
      "PavedDrive       0.231357\n",
      "BsmtFullBath     0.227122\n",
      "RoofStyle        0.222405\n",
      "BsmtUnfSF        0.214479\n",
      "SaleCondition    0.213092\n",
      "Neighborhood     0.210851\n",
      "HouseStyle       0.180163\n",
      "BedroomAbvGr     0.168213\n",
      "RoofMatl         0.132383\n",
      "Functional       0.115328\n",
      "ScreenPorch      0.111447\n",
      "Exterior2nd      0.103766\n",
      "Exterior1st      0.103551\n",
      "PoolArea         0.092404\n",
      "Condition1       0.091155\n",
      "LandSlope        0.051152\n",
      "MoSold           0.046432\n",
      "3SsnPorch        0.044584\n",
      "Street           0.041036\n",
      "MasVnrType       0.029658\n",
      "LandContour      0.015453\n",
      "BsmtFinType2     0.008041\n",
      "Condition2       0.007513\n",
      "BsmtFinSF2      -0.011378\n",
      "Utilities       -0.014314\n",
      "BsmtHalfBath    -0.016844\n",
      "Name: SalePrice, dtype: float64\n"
     ]
    }
   ],
   "source": [
    " print(cor_matrix['SalePrice'].sort_values(ascending=False).head(50))"
   ]
  },
  {
   "cell_type": "code",
   "execution_count": 82,
   "id": "2f5cdac6",
   "metadata": {},
   "outputs": [
    {
     "data": {
      "text/html": [
       "<div>\n",
       "<style scoped>\n",
       "    .dataframe tbody tr th:only-of-type {\n",
       "        vertical-align: middle;\n",
       "    }\n",
       "\n",
       "    .dataframe tbody tr th {\n",
       "        vertical-align: top;\n",
       "    }\n",
       "\n",
       "    .dataframe thead th {\n",
       "        text-align: right;\n",
       "    }\n",
       "</style>\n",
       "<table border=\"1\" class=\"dataframe\">\n",
       "  <thead>\n",
       "    <tr style=\"text-align: right;\">\n",
       "      <th></th>\n",
       "      <th>Id</th>\n",
       "      <th>MSSubClass</th>\n",
       "      <th>MSZoning</th>\n",
       "      <th>LotFrontage</th>\n",
       "      <th>LotArea</th>\n",
       "      <th>Street</th>\n",
       "      <th>LotShape</th>\n",
       "      <th>LandContour</th>\n",
       "      <th>Utilities</th>\n",
       "      <th>LotConfig</th>\n",
       "      <th>...</th>\n",
       "      <th>EnclosedPorch</th>\n",
       "      <th>3SsnPorch</th>\n",
       "      <th>ScreenPorch</th>\n",
       "      <th>PoolArea</th>\n",
       "      <th>MiscVal</th>\n",
       "      <th>MoSold</th>\n",
       "      <th>YrSold</th>\n",
       "      <th>SaleType</th>\n",
       "      <th>SaleCondition</th>\n",
       "      <th>SalePrice</th>\n",
       "    </tr>\n",
       "  </thead>\n",
       "  <tbody>\n",
       "    <tr>\n",
       "      <th>Id</th>\n",
       "      <td>1.000000</td>\n",
       "      <td>0.018745</td>\n",
       "      <td>-0.006096</td>\n",
       "      <td>-0.010601</td>\n",
       "      <td>-0.033226</td>\n",
       "      <td>0.008916</td>\n",
       "      <td>0.032122</td>\n",
       "      <td>-0.019659</td>\n",
       "      <td>0.013324</td>\n",
       "      <td>0.049756</td>\n",
       "      <td>...</td>\n",
       "      <td>0.002889</td>\n",
       "      <td>-0.046635</td>\n",
       "      <td>0.001330</td>\n",
       "      <td>0.057044</td>\n",
       "      <td>-0.006242</td>\n",
       "      <td>0.021172</td>\n",
       "      <td>0.000712</td>\n",
       "      <td>0.019773</td>\n",
       "      <td>-0.005806</td>\n",
       "      <td>-0.021917</td>\n",
       "    </tr>\n",
       "    <tr>\n",
       "      <th>MSSubClass</th>\n",
       "      <td>0.018745</td>\n",
       "      <td>1.000000</td>\n",
       "      <td>0.037785</td>\n",
       "      <td>-0.337937</td>\n",
       "      <td>-0.132505</td>\n",
       "      <td>-0.025737</td>\n",
       "      <td>0.090920</td>\n",
       "      <td>-0.007658</td>\n",
       "      <td>-0.026217</td>\n",
       "      <td>0.060625</td>\n",
       "      <td>...</td>\n",
       "      <td>-0.005194</td>\n",
       "      <td>-0.044435</td>\n",
       "      <td>-0.017886</td>\n",
       "      <td>0.020837</td>\n",
       "      <td>-0.006062</td>\n",
       "      <td>0.007052</td>\n",
       "      <td>-0.022100</td>\n",
       "      <td>0.020195</td>\n",
       "      <td>-0.033097</td>\n",
       "      <td>-0.054751</td>\n",
       "    </tr>\n",
       "    <tr>\n",
       "      <th>MSZoning</th>\n",
       "      <td>-0.006096</td>\n",
       "      <td>0.037785</td>\n",
       "      <td>1.000000</td>\n",
       "      <td>-0.111690</td>\n",
       "      <td>-0.034452</td>\n",
       "      <td>0.087654</td>\n",
       "      <td>0.061887</td>\n",
       "      <td>-0.017854</td>\n",
       "      <td>-0.001192</td>\n",
       "      <td>-0.009895</td>\n",
       "      <td>...</td>\n",
       "      <td>0.115509</td>\n",
       "      <td>0.000362</td>\n",
       "      <td>0.019089</td>\n",
       "      <td>-0.003128</td>\n",
       "      <td>0.009293</td>\n",
       "      <td>-0.031496</td>\n",
       "      <td>-0.020628</td>\n",
       "      <td>0.097437</td>\n",
       "      <td>0.009494</td>\n",
       "      <td>-0.166872</td>\n",
       "    </tr>\n",
       "    <tr>\n",
       "      <th>LotFrontage</th>\n",
       "      <td>-0.010601</td>\n",
       "      <td>-0.337937</td>\n",
       "      <td>-0.111690</td>\n",
       "      <td>1.000000</td>\n",
       "      <td>0.426095</td>\n",
       "      <td>-0.040886</td>\n",
       "      <td>-0.169641</td>\n",
       "      <td>-0.080757</td>\n",
       "      <td>NaN</td>\n",
       "      <td>-0.208276</td>\n",
       "      <td>...</td>\n",
       "      <td>0.010700</td>\n",
       "      <td>0.070029</td>\n",
       "      <td>0.041383</td>\n",
       "      <td>0.206167</td>\n",
       "      <td>0.003368</td>\n",
       "      <td>0.011200</td>\n",
       "      <td>0.007450</td>\n",
       "      <td>-0.034559</td>\n",
       "      <td>0.063372</td>\n",
       "      <td>0.351799</td>\n",
       "    </tr>\n",
       "    <tr>\n",
       "      <th>LotArea</th>\n",
       "      <td>-0.033226</td>\n",
       "      <td>-0.132505</td>\n",
       "      <td>-0.034452</td>\n",
       "      <td>0.426095</td>\n",
       "      <td>1.000000</td>\n",
       "      <td>-0.197131</td>\n",
       "      <td>-0.165315</td>\n",
       "      <td>-0.149083</td>\n",
       "      <td>0.010123</td>\n",
       "      <td>-0.121161</td>\n",
       "      <td>...</td>\n",
       "      <td>-0.018340</td>\n",
       "      <td>0.020423</td>\n",
       "      <td>0.043160</td>\n",
       "      <td>0.077672</td>\n",
       "      <td>0.038068</td>\n",
       "      <td>0.001205</td>\n",
       "      <td>-0.014261</td>\n",
       "      <td>0.012292</td>\n",
       "      <td>0.034169</td>\n",
       "      <td>0.263843</td>\n",
       "    </tr>\n",
       "    <tr>\n",
       "      <th>...</th>\n",
       "      <td>...</td>\n",
       "      <td>...</td>\n",
       "      <td>...</td>\n",
       "      <td>...</td>\n",
       "      <td>...</td>\n",
       "      <td>...</td>\n",
       "      <td>...</td>\n",
       "      <td>...</td>\n",
       "      <td>...</td>\n",
       "      <td>...</td>\n",
       "      <td>...</td>\n",
       "      <td>...</td>\n",
       "      <td>...</td>\n",
       "      <td>...</td>\n",
       "      <td>...</td>\n",
       "      <td>...</td>\n",
       "      <td>...</td>\n",
       "      <td>...</td>\n",
       "      <td>...</td>\n",
       "      <td>...</td>\n",
       "      <td>...</td>\n",
       "    </tr>\n",
       "    <tr>\n",
       "      <th>MoSold</th>\n",
       "      <td>0.021172</td>\n",
       "      <td>0.007052</td>\n",
       "      <td>-0.031496</td>\n",
       "      <td>0.011200</td>\n",
       "      <td>0.001205</td>\n",
       "      <td>0.003690</td>\n",
       "      <td>-0.033455</td>\n",
       "      <td>-0.011599</td>\n",
       "      <td>-0.051552</td>\n",
       "      <td>0.018902</td>\n",
       "      <td>...</td>\n",
       "      <td>-0.028887</td>\n",
       "      <td>0.029474</td>\n",
       "      <td>0.023217</td>\n",
       "      <td>-0.033737</td>\n",
       "      <td>-0.006495</td>\n",
       "      <td>1.000000</td>\n",
       "      <td>-0.145721</td>\n",
       "      <td>-0.047386</td>\n",
       "      <td>0.013320</td>\n",
       "      <td>0.046432</td>\n",
       "    </tr>\n",
       "    <tr>\n",
       "      <th>YrSold</th>\n",
       "      <td>0.000712</td>\n",
       "      <td>-0.022100</td>\n",
       "      <td>-0.020628</td>\n",
       "      <td>0.007450</td>\n",
       "      <td>-0.014261</td>\n",
       "      <td>-0.025043</td>\n",
       "      <td>0.036449</td>\n",
       "      <td>0.020507</td>\n",
       "      <td>0.023353</td>\n",
       "      <td>-0.005992</td>\n",
       "      <td>...</td>\n",
       "      <td>-0.009916</td>\n",
       "      <td>0.018645</td>\n",
       "      <td>0.010694</td>\n",
       "      <td>-0.059689</td>\n",
       "      <td>0.004906</td>\n",
       "      <td>-0.145721</td>\n",
       "      <td>1.000000</td>\n",
       "      <td>-0.002327</td>\n",
       "      <td>0.003880</td>\n",
       "      <td>-0.028923</td>\n",
       "    </tr>\n",
       "    <tr>\n",
       "      <th>SaleType</th>\n",
       "      <td>0.019773</td>\n",
       "      <td>0.020195</td>\n",
       "      <td>0.097437</td>\n",
       "      <td>-0.034559</td>\n",
       "      <td>0.012292</td>\n",
       "      <td>0.014339</td>\n",
       "      <td>-0.000911</td>\n",
       "      <td>-0.025754</td>\n",
       "      <td>-0.126770</td>\n",
       "      <td>0.014325</td>\n",
       "      <td>...</td>\n",
       "      <td>-0.016731</td>\n",
       "      <td>-0.009034</td>\n",
       "      <td>0.004533</td>\n",
       "      <td>0.011009</td>\n",
       "      <td>0.015773</td>\n",
       "      <td>-0.047386</td>\n",
       "      <td>-0.002327</td>\n",
       "      <td>1.000000</td>\n",
       "      <td>0.184067</td>\n",
       "      <td>-0.054911</td>\n",
       "    </tr>\n",
       "    <tr>\n",
       "      <th>SaleCondition</th>\n",
       "      <td>-0.005806</td>\n",
       "      <td>-0.033097</td>\n",
       "      <td>0.009494</td>\n",
       "      <td>0.063372</td>\n",
       "      <td>0.034169</td>\n",
       "      <td>0.006064</td>\n",
       "      <td>-0.038118</td>\n",
       "      <td>0.033809</td>\n",
       "      <td>-0.089701</td>\n",
       "      <td>0.051579</td>\n",
       "      <td>...</td>\n",
       "      <td>-0.098388</td>\n",
       "      <td>0.004379</td>\n",
       "      <td>-0.020095</td>\n",
       "      <td>-0.067251</td>\n",
       "      <td>0.013027</td>\n",
       "      <td>0.013320</td>\n",
       "      <td>0.003880</td>\n",
       "      <td>0.184067</td>\n",
       "      <td>1.000000</td>\n",
       "      <td>0.213092</td>\n",
       "    </tr>\n",
       "    <tr>\n",
       "      <th>SalePrice</th>\n",
       "      <td>-0.021917</td>\n",
       "      <td>-0.054751</td>\n",
       "      <td>-0.166872</td>\n",
       "      <td>0.351799</td>\n",
       "      <td>0.263843</td>\n",
       "      <td>0.041036</td>\n",
       "      <td>-0.255580</td>\n",
       "      <td>0.015453</td>\n",
       "      <td>-0.014314</td>\n",
       "      <td>-0.067396</td>\n",
       "      <td>...</td>\n",
       "      <td>-0.128578</td>\n",
       "      <td>0.044584</td>\n",
       "      <td>0.111447</td>\n",
       "      <td>0.092404</td>\n",
       "      <td>-0.021190</td>\n",
       "      <td>0.046432</td>\n",
       "      <td>-0.028923</td>\n",
       "      <td>-0.054911</td>\n",
       "      <td>0.213092</td>\n",
       "      <td>1.000000</td>\n",
       "    </tr>\n",
       "  </tbody>\n",
       "</table>\n",
       "<p>76 rows × 76 columns</p>\n",
       "</div>"
      ],
      "text/plain": [
       "                     Id  MSSubClass  MSZoning  LotFrontage   LotArea  \\\n",
       "Id             1.000000    0.018745 -0.006096    -0.010601 -0.033226   \n",
       "MSSubClass     0.018745    1.000000  0.037785    -0.337937 -0.132505   \n",
       "MSZoning      -0.006096    0.037785  1.000000    -0.111690 -0.034452   \n",
       "LotFrontage   -0.010601   -0.337937 -0.111690     1.000000  0.426095   \n",
       "LotArea       -0.033226   -0.132505 -0.034452     0.426095  1.000000   \n",
       "...                 ...         ...       ...          ...       ...   \n",
       "MoSold         0.021172    0.007052 -0.031496     0.011200  0.001205   \n",
       "YrSold         0.000712   -0.022100 -0.020628     0.007450 -0.014261   \n",
       "SaleType       0.019773    0.020195  0.097437    -0.034559  0.012292   \n",
       "SaleCondition -0.005806   -0.033097  0.009494     0.063372  0.034169   \n",
       "SalePrice     -0.021917   -0.054751 -0.166872     0.351799  0.263843   \n",
       "\n",
       "                 Street  LotShape  LandContour  Utilities  LotConfig  ...  \\\n",
       "Id             0.008916  0.032122    -0.019659   0.013324   0.049756  ...   \n",
       "MSSubClass    -0.025737  0.090920    -0.007658  -0.026217   0.060625  ...   \n",
       "MSZoning       0.087654  0.061887    -0.017854  -0.001192  -0.009895  ...   \n",
       "LotFrontage   -0.040886 -0.169641    -0.080757        NaN  -0.208276  ...   \n",
       "LotArea       -0.197131 -0.165315    -0.149083   0.010123  -0.121161  ...   \n",
       "...                 ...       ...          ...        ...        ...  ...   \n",
       "MoSold         0.003690 -0.033455    -0.011599  -0.051552   0.018902  ...   \n",
       "YrSold        -0.025043  0.036449     0.020507   0.023353  -0.005992  ...   \n",
       "SaleType       0.014339 -0.000911    -0.025754  -0.126770   0.014325  ...   \n",
       "SaleCondition  0.006064 -0.038118     0.033809  -0.089701   0.051579  ...   \n",
       "SalePrice      0.041036 -0.255580     0.015453  -0.014314  -0.067396  ...   \n",
       "\n",
       "               EnclosedPorch  3SsnPorch  ScreenPorch  PoolArea   MiscVal  \\\n",
       "Id                  0.002889  -0.046635     0.001330  0.057044 -0.006242   \n",
       "MSSubClass         -0.005194  -0.044435    -0.017886  0.020837 -0.006062   \n",
       "MSZoning            0.115509   0.000362     0.019089 -0.003128  0.009293   \n",
       "LotFrontage         0.010700   0.070029     0.041383  0.206167  0.003368   \n",
       "LotArea            -0.018340   0.020423     0.043160  0.077672  0.038068   \n",
       "...                      ...        ...          ...       ...       ...   \n",
       "MoSold             -0.028887   0.029474     0.023217 -0.033737 -0.006495   \n",
       "YrSold             -0.009916   0.018645     0.010694 -0.059689  0.004906   \n",
       "SaleType           -0.016731  -0.009034     0.004533  0.011009  0.015773   \n",
       "SaleCondition      -0.098388   0.004379    -0.020095 -0.067251  0.013027   \n",
       "SalePrice          -0.128578   0.044584     0.111447  0.092404 -0.021190   \n",
       "\n",
       "                 MoSold    YrSold  SaleType  SaleCondition  SalePrice  \n",
       "Id             0.021172  0.000712  0.019773      -0.005806  -0.021917  \n",
       "MSSubClass     0.007052 -0.022100  0.020195      -0.033097  -0.054751  \n",
       "MSZoning      -0.031496 -0.020628  0.097437       0.009494  -0.166872  \n",
       "LotFrontage    0.011200  0.007450 -0.034559       0.063372   0.351799  \n",
       "LotArea        0.001205 -0.014261  0.012292       0.034169   0.263843  \n",
       "...                 ...       ...       ...            ...        ...  \n",
       "MoSold         1.000000 -0.145721 -0.047386       0.013320   0.046432  \n",
       "YrSold        -0.145721  1.000000 -0.002327       0.003880  -0.028923  \n",
       "SaleType      -0.047386 -0.002327  1.000000       0.184067  -0.054911  \n",
       "SaleCondition  0.013320  0.003880  0.184067       1.000000   0.213092  \n",
       "SalePrice      0.046432 -0.028923 -0.054911       0.213092   1.000000  \n",
       "\n",
       "[76 rows x 76 columns]"
      ]
     },
     "execution_count": 82,
     "metadata": {},
     "output_type": "execute_result"
    }
   ],
   "source": [
    "cor_matrix"
   ]
  },
  {
   "cell_type": "code",
   "execution_count": 352,
   "id": "2b7af452",
   "metadata": {},
   "outputs": [],
   "source": [
    "features=cor_matrix.loc[cor_matrix['SalePrice']>0.60,['SalePrice']]"
   ]
  },
  {
   "cell_type": "code",
   "execution_count": 353,
   "id": "aa1dd73c",
   "metadata": {},
   "outputs": [
    {
     "data": {
      "text/html": [
       "<div>\n",
       "<style scoped>\n",
       "    .dataframe tbody tr th:only-of-type {\n",
       "        vertical-align: middle;\n",
       "    }\n",
       "\n",
       "    .dataframe tbody tr th {\n",
       "        vertical-align: top;\n",
       "    }\n",
       "\n",
       "    .dataframe thead th {\n",
       "        text-align: right;\n",
       "    }\n",
       "</style>\n",
       "<table border=\"1\" class=\"dataframe\">\n",
       "  <thead>\n",
       "    <tr style=\"text-align: right;\">\n",
       "      <th></th>\n",
       "      <th>SalePrice</th>\n",
       "    </tr>\n",
       "  </thead>\n",
       "  <tbody>\n",
       "    <tr>\n",
       "      <th>OverallQual</th>\n",
       "      <td>0.790982</td>\n",
       "    </tr>\n",
       "    <tr>\n",
       "      <th>TotalBsmtSF</th>\n",
       "      <td>0.613581</td>\n",
       "    </tr>\n",
       "    <tr>\n",
       "      <th>1stFlrSF</th>\n",
       "      <td>0.605852</td>\n",
       "    </tr>\n",
       "    <tr>\n",
       "      <th>GrLivArea</th>\n",
       "      <td>0.708624</td>\n",
       "    </tr>\n",
       "    <tr>\n",
       "      <th>GarageCars</th>\n",
       "      <td>0.640409</td>\n",
       "    </tr>\n",
       "    <tr>\n",
       "      <th>GarageArea</th>\n",
       "      <td>0.623431</td>\n",
       "    </tr>\n",
       "    <tr>\n",
       "      <th>SalePrice</th>\n",
       "      <td>1.000000</td>\n",
       "    </tr>\n",
       "  </tbody>\n",
       "</table>\n",
       "</div>"
      ],
      "text/plain": [
       "             SalePrice\n",
       "OverallQual   0.790982\n",
       "TotalBsmtSF   0.613581\n",
       "1stFlrSF      0.605852\n",
       "GrLivArea     0.708624\n",
       "GarageCars    0.640409\n",
       "GarageArea    0.623431\n",
       "SalePrice     1.000000"
      ]
     },
     "execution_count": 353,
     "metadata": {},
     "output_type": "execute_result"
    }
   ],
   "source": [
    "features"
   ]
  },
  {
   "cell_type": "code",
   "execution_count": null,
   "id": "2b86f8f8",
   "metadata": {},
   "outputs": [],
   "source": []
  }
 ],
 "metadata": {
  "kernelspec": {
   "display_name": "Python 3 (ipykernel)",
   "language": "python",
   "name": "python3"
  },
  "language_info": {
   "codemirror_mode": {
    "name": "ipython",
    "version": 3
   },
   "file_extension": ".py",
   "mimetype": "text/x-python",
   "name": "python",
   "nbconvert_exporter": "python",
   "pygments_lexer": "ipython3",
   "version": "3.9.7"
  }
 },
 "nbformat": 4,
 "nbformat_minor": 5
}
